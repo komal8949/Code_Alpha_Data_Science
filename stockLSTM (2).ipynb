{
 "cells": [
  {
   "cell_type": "code",
   "execution_count": 1,
   "id": "03aff13d",
   "metadata": {},
   "outputs": [],
   "source": [
    "import numpy as np,pandas as pd,matplotlib.pyplot as plt,seaborn as sns"
   ]
  },
  {
   "cell_type": "code",
   "execution_count": 58,
   "id": "b8269595",
   "metadata": {},
   "outputs": [],
   "source": [
    "data=pd.read_csv('AAPL.csv')\n",
    "# Create moving averages\n",
    "data['MA10'] = data['Close'].rolling(window=10).mean()\n",
    "data['MA20'] = data['Close'].rolling(window=20).mean()\n"
   ]
  },
  {
   "cell_type": "code",
   "execution_count": 59,
   "id": "7f79e135",
   "metadata": {},
   "outputs": [],
   "source": [
    "# Fill missing values\n",
    "data = data.fillna(method='bfill')\n"
   ]
  },
  {
   "cell_type": "code",
   "execution_count": 60,
   "id": "0d948190",
   "metadata": {},
   "outputs": [
    {
     "data": {
      "text/html": [
       "<div>\n",
       "<style scoped>\n",
       "    .dataframe tbody tr th:only-of-type {\n",
       "        vertical-align: middle;\n",
       "    }\n",
       "\n",
       "    .dataframe tbody tr th {\n",
       "        vertical-align: top;\n",
       "    }\n",
       "\n",
       "    .dataframe thead th {\n",
       "        text-align: right;\n",
       "    }\n",
       "</style>\n",
       "<table border=\"1\" class=\"dataframe\">\n",
       "  <thead>\n",
       "    <tr style=\"text-align: right;\">\n",
       "      <th></th>\n",
       "      <th>Date</th>\n",
       "      <th>Open</th>\n",
       "      <th>High</th>\n",
       "      <th>Low</th>\n",
       "      <th>Close</th>\n",
       "      <th>Adj Close</th>\n",
       "      <th>Volume</th>\n",
       "      <th>MA10</th>\n",
       "      <th>MA20</th>\n",
       "    </tr>\n",
       "  </thead>\n",
       "  <tbody>\n",
       "    <tr>\n",
       "      <th>0</th>\n",
       "      <td>2023-05-18</td>\n",
       "      <td>173.000000</td>\n",
       "      <td>175.240005</td>\n",
       "      <td>172.580002</td>\n",
       "      <td>175.050003</td>\n",
       "      <td>174.125275</td>\n",
       "      <td>65496700</td>\n",
       "      <td>175.086999</td>\n",
       "      <td>178.351</td>\n",
       "    </tr>\n",
       "    <tr>\n",
       "      <th>1</th>\n",
       "      <td>2023-05-19</td>\n",
       "      <td>176.389999</td>\n",
       "      <td>176.389999</td>\n",
       "      <td>174.940002</td>\n",
       "      <td>175.160004</td>\n",
       "      <td>174.234695</td>\n",
       "      <td>55772400</td>\n",
       "      <td>175.086999</td>\n",
       "      <td>178.351</td>\n",
       "    </tr>\n",
       "    <tr>\n",
       "      <th>2</th>\n",
       "      <td>2023-05-22</td>\n",
       "      <td>173.979996</td>\n",
       "      <td>174.710007</td>\n",
       "      <td>173.449997</td>\n",
       "      <td>174.199997</td>\n",
       "      <td>173.279755</td>\n",
       "      <td>43570900</td>\n",
       "      <td>175.086999</td>\n",
       "      <td>178.351</td>\n",
       "    </tr>\n",
       "    <tr>\n",
       "      <th>3</th>\n",
       "      <td>2023-05-23</td>\n",
       "      <td>173.130005</td>\n",
       "      <td>173.380005</td>\n",
       "      <td>171.279999</td>\n",
       "      <td>171.559998</td>\n",
       "      <td>170.653717</td>\n",
       "      <td>50747300</td>\n",
       "      <td>175.086999</td>\n",
       "      <td>178.351</td>\n",
       "    </tr>\n",
       "    <tr>\n",
       "      <th>4</th>\n",
       "      <td>2023-05-24</td>\n",
       "      <td>171.089996</td>\n",
       "      <td>172.419998</td>\n",
       "      <td>170.520004</td>\n",
       "      <td>171.839996</td>\n",
       "      <td>170.932220</td>\n",
       "      <td>45143500</td>\n",
       "      <td>175.086999</td>\n",
       "      <td>178.351</td>\n",
       "    </tr>\n",
       "  </tbody>\n",
       "</table>\n",
       "</div>"
      ],
      "text/plain": [
       "         Date        Open        High         Low       Close   Adj Close  \\\n",
       "0  2023-05-18  173.000000  175.240005  172.580002  175.050003  174.125275   \n",
       "1  2023-05-19  176.389999  176.389999  174.940002  175.160004  174.234695   \n",
       "2  2023-05-22  173.979996  174.710007  173.449997  174.199997  173.279755   \n",
       "3  2023-05-23  173.130005  173.380005  171.279999  171.559998  170.653717   \n",
       "4  2023-05-24  171.089996  172.419998  170.520004  171.839996  170.932220   \n",
       "\n",
       "     Volume        MA10     MA20  \n",
       "0  65496700  175.086999  178.351  \n",
       "1  55772400  175.086999  178.351  \n",
       "2  43570900  175.086999  178.351  \n",
       "3  50747300  175.086999  178.351  \n",
       "4  45143500  175.086999  178.351  "
      ]
     },
     "execution_count": 60,
     "metadata": {},
     "output_type": "execute_result"
    }
   ],
   "source": [
    "data.head()"
   ]
  },
  {
   "cell_type": "code",
   "execution_count": 61,
   "id": "51b738a1",
   "metadata": {},
   "outputs": [
    {
     "data": {
      "text/html": [
       "<div>\n",
       "<style scoped>\n",
       "    .dataframe tbody tr th:only-of-type {\n",
       "        vertical-align: middle;\n",
       "    }\n",
       "\n",
       "    .dataframe tbody tr th {\n",
       "        vertical-align: top;\n",
       "    }\n",
       "\n",
       "    .dataframe thead th {\n",
       "        text-align: right;\n",
       "    }\n",
       "</style>\n",
       "<table border=\"1\" class=\"dataframe\">\n",
       "  <thead>\n",
       "    <tr style=\"text-align: right;\">\n",
       "      <th></th>\n",
       "      <th>Date</th>\n",
       "      <th>Open</th>\n",
       "      <th>High</th>\n",
       "      <th>Low</th>\n",
       "      <th>Close</th>\n",
       "      <th>Adj Close</th>\n",
       "      <th>Volume</th>\n",
       "      <th>MA10</th>\n",
       "      <th>MA20</th>\n",
       "    </tr>\n",
       "  </thead>\n",
       "  <tbody>\n",
       "    <tr>\n",
       "      <th>247</th>\n",
       "      <td>2024-05-13</td>\n",
       "      <td>185.440002</td>\n",
       "      <td>187.100006</td>\n",
       "      <td>184.619995</td>\n",
       "      <td>186.279999</td>\n",
       "      <td>186.279999</td>\n",
       "      <td>72044800</td>\n",
       "      <td>179.679002</td>\n",
       "      <td>174.033001</td>\n",
       "    </tr>\n",
       "    <tr>\n",
       "      <th>248</th>\n",
       "      <td>2024-05-14</td>\n",
       "      <td>187.509995</td>\n",
       "      <td>188.300003</td>\n",
       "      <td>186.289993</td>\n",
       "      <td>187.429993</td>\n",
       "      <td>187.429993</td>\n",
       "      <td>52393600</td>\n",
       "      <td>181.389002</td>\n",
       "      <td>174.935500</td>\n",
       "    </tr>\n",
       "    <tr>\n",
       "      <th>249</th>\n",
       "      <td>2024-05-15</td>\n",
       "      <td>187.910004</td>\n",
       "      <td>190.649994</td>\n",
       "      <td>187.369995</td>\n",
       "      <td>189.720001</td>\n",
       "      <td>189.720001</td>\n",
       "      <td>70400000</td>\n",
       "      <td>183.431001</td>\n",
       "      <td>176.021500</td>\n",
       "    </tr>\n",
       "    <tr>\n",
       "      <th>250</th>\n",
       "      <td>2024-05-16</td>\n",
       "      <td>190.470001</td>\n",
       "      <td>191.100006</td>\n",
       "      <td>189.660004</td>\n",
       "      <td>189.839996</td>\n",
       "      <td>189.839996</td>\n",
       "      <td>52845200</td>\n",
       "      <td>185.112001</td>\n",
       "      <td>177.161501</td>\n",
       "    </tr>\n",
       "    <tr>\n",
       "      <th>251</th>\n",
       "      <td>2024-05-17</td>\n",
       "      <td>189.509995</td>\n",
       "      <td>190.809998</td>\n",
       "      <td>189.179993</td>\n",
       "      <td>189.869995</td>\n",
       "      <td>189.869995</td>\n",
       "      <td>41260800</td>\n",
       "      <td>185.761000</td>\n",
       "      <td>178.405000</td>\n",
       "    </tr>\n",
       "  </tbody>\n",
       "</table>\n",
       "</div>"
      ],
      "text/plain": [
       "           Date        Open        High         Low       Close   Adj Close  \\\n",
       "247  2024-05-13  185.440002  187.100006  184.619995  186.279999  186.279999   \n",
       "248  2024-05-14  187.509995  188.300003  186.289993  187.429993  187.429993   \n",
       "249  2024-05-15  187.910004  190.649994  187.369995  189.720001  189.720001   \n",
       "250  2024-05-16  190.470001  191.100006  189.660004  189.839996  189.839996   \n",
       "251  2024-05-17  189.509995  190.809998  189.179993  189.869995  189.869995   \n",
       "\n",
       "       Volume        MA10        MA20  \n",
       "247  72044800  179.679002  174.033001  \n",
       "248  52393600  181.389002  174.935500  \n",
       "249  70400000  183.431001  176.021500  \n",
       "250  52845200  185.112001  177.161501  \n",
       "251  41260800  185.761000  178.405000  "
      ]
     },
     "execution_count": 61,
     "metadata": {},
     "output_type": "execute_result"
    }
   ],
   "source": [
    "data.tail()"
   ]
  },
  {
   "cell_type": "code",
   "execution_count": 62,
   "id": "ad159b7e",
   "metadata": {},
   "outputs": [
    {
     "data": {
      "text/plain": [
       "Date         0\n",
       "Open         0\n",
       "High         0\n",
       "Low          0\n",
       "Close        0\n",
       "Adj Close    0\n",
       "Volume       0\n",
       "MA10         0\n",
       "MA20         0\n",
       "dtype: int64"
      ]
     },
     "execution_count": 62,
     "metadata": {},
     "output_type": "execute_result"
    }
   ],
   "source": [
    "data.isnull().sum()"
   ]
  },
  {
   "cell_type": "code",
   "execution_count": 63,
   "id": "b245f7e9",
   "metadata": {},
   "outputs": [],
   "source": [
    "df=data.reset_index()['Close']#It resets the index of the DataFrame \"data\" and then selects the 'Close' column, resulting in a Series of 'Close' prices with a default integer index."
   ]
  },
  {
   "cell_type": "code",
   "execution_count": 64,
   "id": "5deb51ab",
   "metadata": {},
   "outputs": [
    {
     "data": {
      "text/plain": [
       "122    186.399994\n",
       "123    184.800003\n",
       "124    187.440002\n",
       "125    188.009995\n",
       "126    189.710007\n",
       "          ...    \n",
       "247    186.279999\n",
       "248    187.429993\n",
       "249    189.720001\n",
       "250    189.839996\n",
       "251    189.869995\n",
       "Name: Close, Length: 130, dtype: float64"
      ]
     },
     "execution_count": 64,
     "metadata": {},
     "output_type": "execute_result"
    }
   ],
   "source": [
    "df[122:]"
   ]
  },
  {
   "cell_type": "code",
   "execution_count": 65,
   "id": "05d316f3",
   "metadata": {},
   "outputs": [
    {
     "data": {
      "text/plain": [
       "(252,)"
      ]
     },
     "execution_count": 65,
     "metadata": {},
     "output_type": "execute_result"
    }
   ],
   "source": [
    "df.shape"
   ]
  },
  {
   "cell_type": "code",
   "execution_count": 66,
   "id": "788dd98a",
   "metadata": {},
   "outputs": [
    {
     "data": {
      "text/plain": [
       "1      175.160004\n",
       "2      174.199997\n",
       "3      171.559998\n",
       "4      171.839996\n",
       "5      172.990005\n",
       "          ...    \n",
       "247    186.279999\n",
       "248    187.429993\n",
       "249    189.720001\n",
       "250    189.839996\n",
       "251    189.869995\n",
       "Name: Close, Length: 251, dtype: float64"
      ]
     },
     "execution_count": 66,
     "metadata": {},
     "output_type": "execute_result"
    }
   ],
   "source": [
    "df[1:]"
   ]
  },
  {
   "cell_type": "code",
   "execution_count": 67,
   "id": "68599377",
   "metadata": {},
   "outputs": [
    {
     "data": {
      "text/plain": [
       "[<matplotlib.lines.Line2D at 0x1fb002f4690>]"
      ]
     },
     "execution_count": 67,
     "metadata": {},
     "output_type": "execute_result"
    },
    {
     "data": {
      "image/png": "[encoded data removed]",
      "text/plain": [
       "<Figure size 640x480 with 1 Axes>"
      ]
     },
     "metadata": {},
     "output_type": "display_data"
    }
   ],
   "source": [
    "plt.plot(df)#how your stock price looks from 2023 to 2024"
   ]
  },
  {
   "cell_type": "code",
   "execution_count": 69,
   "id": "d23aa312",
   "metadata": {},
   "outputs": [
    {
     "data": {
      "image/png": "[encoded data removed]",
      "text/plain": [
       "<Figure size 1200x1200 with 1 Axes>"
      ]
     },
     "metadata": {},
     "output_type": "display_data"
    }
   ],
   "source": [
    "df.hist(figsize=(12, 12));"
   ]
  },
  {
   "cell_type": "markdown",
   "id": "f6e3a396",
   "metadata": {},
   "source": [
    "## LSTM are sensitive to the scale of data. so here we apply minmax scale."
   ]
  },
  {
   "cell_type": "code",
   "execution_count": 112,
   "id": "2bdf96cd",
   "metadata": {},
   "outputs": [],
   "source": [
    "from sklearn.preprocessing import MinMaxScaler\n",
    "scaler=MinMaxScaler(feature_range=(0,1))"
   ]
  },
  {
   "cell_type": "code",
   "execution_count": 113,
   "id": "84e04b14",
   "metadata": {},
   "outputs": [
    {
     "data": {
      "text/plain": [
       "0      175.050003\n",
       "1      175.160004\n",
       "2      174.199997\n",
       "3      171.559998\n",
       "4      171.839996\n",
       "          ...    \n",
       "247    186.279999\n",
       "248    187.429993\n",
       "249    189.720001\n",
       "250    189.839996\n",
       "251    189.869995\n",
       "Name: Close, Length: 252, dtype: float64"
      ]
     },
     "execution_count": 113,
     "metadata": {},
     "output_type": "execute_result"
    }
   ],
   "source": [
    "df"
   ]
  },
  {
   "cell_type": "code",
   "execution_count": 114,
   "id": "0c02a0c9",
   "metadata": {},
   "outputs": [],
   "source": [
    "scaled_data=scaler.fit_transform(np.array(df).reshape(-1,1))#we change df into an array"
   ]
  },
  {
   "cell_type": "code",
   "execution_count": 115,
   "id": "2d861e6b",
   "metadata": {},
   "outputs": [
    {
     "data": {
      "text/plain": [
       "array([[0.30353376],\n",
       "       [0.30685605],\n",
       "       [0.27786157],\n",
       "       [0.19812739],\n",
       "       [0.20658399],\n",
       "       [0.24131697],\n",
       "       [0.31501035],\n",
       "       [0.37148906],\n",
       "       [0.36997885],\n",
       "       [0.45575341],\n",
       "       [0.48172747],\n",
       "       [0.44035039],\n",
       "       [0.42917567],\n",
       "       [0.3871944 ],\n",
       "       [0.47025088],\n",
       "       [0.4820298 ],\n",
       "       [0.56750204],\n",
       "       [0.55300506],\n",
       "       [0.57233453],\n",
       "       [0.63455132],\n",
       "       [0.60163085],\n",
       "       [0.60434897],\n",
       "       [0.57263686],\n",
       "       [0.66445181],\n",
       "       [0.65478684],\n",
       "       [0.61220185],\n",
       "       [0.69646624],\n",
       "       [0.73240711],\n",
       "       [0.74267579],\n",
       "       [0.87496225],\n",
       "       [0.82935688],\n",
       "       [0.79522806],\n",
       "       [0.80972507],\n",
       "       [0.77559626],\n",
       "       [0.71307763],\n",
       "       [0.69707041],\n",
       "       [0.74811245],\n",
       "       [0.77136793],\n",
       "       [0.77589856],\n",
       "       [0.87556642],\n",
       "       [0.86771353],\n",
       "       [0.90909106],\n",
       "       [0.84959239],\n",
       "       [0.8136515 ],\n",
       "       [0.83811535],\n",
       "       [0.86439125],\n",
       "       [0.89096947],\n",
       "       [0.85231048],\n",
       "       [0.93113866],\n",
       "       [0.94986397],\n",
       "       [0.92449411],\n",
       "       [0.83298101],\n",
       "       [0.79039557],\n",
       "       [0.51313816],\n",
       "       [0.4183028 ],\n",
       "       [0.44699494],\n",
       "       [0.39836912],\n",
       "       [0.39172457],\n",
       "       [0.38628791],\n",
       "       [0.43672626],\n",
       "       [0.37601923],\n",
       "       [0.34944146],\n",
       "       [0.27182119],\n",
       "       [0.2866205 ],\n",
       "       [0.32739341],\n",
       "       [0.36937468],\n",
       "       [0.48686181],\n",
       "       [0.34370295],\n",
       "       [0.41105408],\n",
       "       [0.45877383],\n",
       "       [0.57746887],\n",
       "       [0.68408316],\n",
       "       [0.6907277 ],\n",
       "       [0.73874981],\n",
       "       [0.74599807],\n",
       "       [0.5409243 ],\n",
       "       [0.37934152],\n",
       "       [0.39806683],\n",
       "       [0.43370585],\n",
       "       [0.3412867 ],\n",
       "       [0.2781639 ],\n",
       "       [0.32437344],\n",
       "       [0.30232542],\n",
       "       [0.39172457],\n",
       "       [0.42494734],\n",
       "       [0.31682285],\n",
       "       [0.26970682],\n",
       "       [0.29568084],\n",
       "       [0.33464215],\n",
       "       [0.2102086 ],\n",
       "       [0.16399858],\n",
       "       [0.17185146],\n",
       "       [0.18755684],\n",
       "       [0.26427061],\n",
       "       [0.22349724],\n",
       "       [0.26155251],\n",
       "       [0.29930546],\n",
       "       [0.37722756],\n",
       "       [0.4225311 ],\n",
       "       [0.4044095 ],\n",
       "       [0.44699494],\n",
       "       [0.47447921],\n",
       "       [0.4183028 ],\n",
       "       [0.41437634],\n",
       "       [0.36695843],\n",
       "       [0.32739341],\n",
       "       [0.31591684],\n",
       "       [0.23799471],\n",
       "       [0.24161884],\n",
       "       [0.25490794],\n",
       "       [0.18423455],\n",
       "       [0.05708242],\n",
       "       [0.09725161],\n",
       "       [0.15977025],\n",
       "       [0.17426771],\n",
       "       [0.27091515],\n",
       "       [0.37964381],\n",
       "       [0.35185725],\n",
       "       [0.42977939],\n",
       "       [0.50800382],\n",
       "       [0.5403201 ],\n",
       "       [0.52582312],\n",
       "       [0.64633021],\n",
       "       [0.59800672],\n",
       "       [0.6777409 ],\n",
       "       [0.69495603],\n",
       "       [0.7463004 ],\n",
       "       [0.7456962 ],\n",
       "       [0.7988522 ],\n",
       "       [0.77438835],\n",
       "       [0.7946239 ],\n",
       "       [0.75415283],\n",
       "       [0.74871617],\n",
       "       [0.76713963],\n",
       "       [0.73603124],\n",
       "       [0.75354866],\n",
       "       [0.79250994],\n",
       "       [0.73784332],\n",
       "       [0.85835087],\n",
       "       [0.82512855],\n",
       "       [0.88402305],\n",
       "       [0.92751453],\n",
       "       [0.85110215],\n",
       "       [0.89731217],\n",
       "       [0.99546983],\n",
       "       [1.        ],\n",
       "       [0.98369091],\n",
       "       [0.93295071],\n",
       "       [0.96466328],\n",
       "       [0.90093631],\n",
       "       [0.89640568],\n",
       "       [0.86378753],\n",
       "       [0.84717614],\n",
       "       [0.85019611],\n",
       "       [0.86318336],\n",
       "       [0.8314708 ],\n",
       "       [0.62337657],\n",
       "       [0.58139533],\n",
       "       [0.51072194],\n",
       "       [0.48867389],\n",
       "       [0.62096036],\n",
       "       [0.6082754 ],\n",
       "       [0.63998796],\n",
       "       [0.62186637],\n",
       "       [0.6318332 ],\n",
       "       [0.56267002],\n",
       "       [0.53397742],\n",
       "       [0.7136818 ],\n",
       "       [0.80217448],\n",
       "       [0.872546  ],\n",
       "       [0.91150686],\n",
       "       [0.89096947],\n",
       "       [0.88100263],\n",
       "       [0.82814851],\n",
       "       [0.80730882],\n",
       "       [0.69586204],\n",
       "       [0.5859255 ],\n",
       "       [0.66022351],\n",
       "       [0.62971928],\n",
       "       [0.6849892 ],\n",
       "       [0.73391731],\n",
       "       [0.7372396 ],\n",
       "       [0.70431913],\n",
       "       [0.72032634],\n",
       "       [0.66898198],\n",
       "       [0.60525498],\n",
       "       [0.57837491],\n",
       "       [0.56961644],\n",
       "       [0.5228027 ],\n",
       "       [0.50015094],\n",
       "       [0.523105  ],\n",
       "       [0.58501946],\n",
       "       [0.52914538],\n",
       "       [0.48807018],\n",
       "       [0.53246767],\n",
       "       [0.49592261],\n",
       "       [0.47568709],\n",
       "       [0.44276664],\n",
       "       [0.30504397],\n",
       "       [0.15463591],\n",
       "       [0.12443355],\n",
       "       [0.12080942],\n",
       "       [0.17305937],\n",
       "       [0.23406825],\n",
       "       [0.24856526],\n",
       "       [0.18514059],\n",
       "       [0.24161884],\n",
       "       [0.23014179],\n",
       "       [0.26336456],\n",
       "       [0.33464215],\n",
       "       [0.41286613],\n",
       "       [0.19238885],\n",
       "       [0.21987311],\n",
       "       [0.17668396],\n",
       "       [0.1422533 ],\n",
       "       [0.25098151],\n",
       "       [0.19571114],\n",
       "       [0.15191781],\n",
       "       [0.11597692],\n",
       "       [0.14044077],\n",
       "       [0.11537321],\n",
       "       [0.13832685],\n",
       "       [0.10419803],\n",
       "       [0.14104494],\n",
       "       [0.08396252],\n",
       "       [0.30323143],\n",
       "       [0.34883729],\n",
       "       [0.23225617],\n",
       "       [0.13228647],\n",
       "       [0.09060706],\n",
       "       [0.06161259],\n",
       "       [0.        ],\n",
       "       [0.02536986],\n",
       "       [0.05738429],\n",
       "       [0.12141359],\n",
       "       [0.14768949],\n",
       "       [0.12987022],\n",
       "       [0.25672002],\n",
       "       [0.16097861],\n",
       "       [0.12987022],\n",
       "       [0.24252488],\n",
       "       [0.55511943],\n",
       "       [0.50468156],\n",
       "       [0.52552079],\n",
       "       [0.53578993],\n",
       "       [0.5910603 ],\n",
       "       [0.5451526 ],\n",
       "       [0.64270608],\n",
       "       [0.67743861],\n",
       "       [0.74660224],\n",
       "       [0.75022637],\n",
       "       [0.75113241]])"
      ]
     },
     "execution_count": 115,
     "metadata": {},
     "output_type": "execute_result"
    }
   ],
   "source": [
    "scaled_data"
   ]
  },
  {
   "cell_type": "code",
   "execution_count": 116,
   "id": "d222b3f2",
   "metadata": {},
   "outputs": [],
   "source": [
    "## split the data into train and test\n",
    "X=int(len(df)*0.65)#training_size\n",
    "y=len(df)-X#test_size"
   ]
  },
  {
   "cell_type": "code",
   "execution_count": 117,
   "id": "674c7af4",
   "metadata": {},
   "outputs": [],
   "source": [
    "train_data = scaled_data[:X]\n",
    "test_data = scaled_data[y:]"
   ]
  },
  {
   "cell_type": "markdown",
   "id": "5cb0fe68",
   "metadata": {},
   "source": [
    "## now converting array of values into a dataset matrix"
   ]
  },
  {
   "cell_type": "code",
   "execution_count": 118,
   "id": "d24bb5e9",
   "metadata": {},
   "outputs": [],
   "source": [
    "#in the below code we just taking the value from dataset to set them for train and test here we take 4 continuous value to predict the 5th value \n",
    "def create_dataset(dataset,time_step=60):\n",
    "    dataX,dataY=[],[]\n",
    "    for i in range(len(dataset)-time_step-1):\n",
    "        a=dataset[i:(i+time_step),0]#i=0,  0,1,2,3\n",
    "        dataX.append(a)\n",
    "        dataY.append(dataset[i+time_step,0])\n",
    "    return np.array(dataX),np.array(dataY)"
   ]
  },
  {
   "cell_type": "code",
   "execution_count": 119,
   "id": "6cd4e0dc",
   "metadata": {},
   "outputs": [],
   "source": [
    "# reshape into X=t, t+1,t+2,t+3 and t+4\n",
    "time_step=100 # number of value taken from the data \n",
    "X_train,y_train=create_dataset(train_data,time_step)\n",
    "X_test,y_test=create_dataset(test_data,time_step)"
   ]
  },
  {
   "cell_type": "code",
   "execution_count": 120,
   "id": "cf5bf36e",
   "metadata": {},
   "outputs": [
    {
     "data": {
      "text/plain": [
       "array([[0.30353376, 0.30685605, 0.27786157, ..., 0.37722756, 0.4225311 ,\n",
       "        0.4044095 ],\n",
       "       [0.30685605, 0.27786157, 0.19812739, ..., 0.4225311 , 0.4044095 ,\n",
       "        0.44699494],\n",
       "       [0.27786157, 0.19812739, 0.20658399, ..., 0.4044095 , 0.44699494,\n",
       "        0.47447921],\n",
       "       ...,\n",
       "       [0.43672626, 0.37601923, 0.34944146, ..., 0.62337657, 0.58139533,\n",
       "        0.51072194],\n",
       "       [0.37601923, 0.34944146, 0.27182119, ..., 0.58139533, 0.51072194,\n",
       "        0.48867389],\n",
       "       [0.34944146, 0.27182119, 0.2866205 , ..., 0.51072194, 0.48867389,\n",
       "        0.62096036]])"
      ]
     },
     "execution_count": 120,
     "metadata": {},
     "output_type": "execute_result"
    }
   ],
   "source": [
    "X_train"
   ]
  },
  {
   "cell_type": "code",
   "execution_count": 121,
   "id": "98f5e3fb",
   "metadata": {},
   "outputs": [
    {
     "data": {
      "text/plain": [
       "((62, 100), (62, 100))"
      ]
     },
     "execution_count": 121,
     "metadata": {},
     "output_type": "execute_result"
    }
   ],
   "source": [
    "X_test.shape,X_train.shape\n"
   ]
  },
  {
   "cell_type": "code",
   "execution_count": 122,
   "id": "89668ad5",
   "metadata": {},
   "outputs": [
    {
     "data": {
      "text/plain": [
       "((62,), (62,))"
      ]
     },
     "execution_count": 122,
     "metadata": {},
     "output_type": "execute_result"
    }
   ],
   "source": [
    "y_test.shape,y_train.shape"
   ]
  },
  {
   "cell_type": "markdown",
   "id": "de45e31f",
   "metadata": {},
   "source": [
    "## reshape X_train and test for the LSTM reshape will be[samples,time steps,features]"
   ]
  },
  {
   "cell_type": "code",
   "execution_count": 123,
   "id": "c3260638",
   "metadata": {},
   "outputs": [],
   "source": [
    "X_train=X_train.reshape(X_train.shape[0],X_train.shape[1],1) # reshape data into three dimensions\n",
    "X_test=X_test.reshape(X_test.shape[0],X_test.shape[1],1)"
   ]
  },
  {
   "cell_type": "code",
   "execution_count": 124,
   "id": "201f0077",
   "metadata": {},
   "outputs": [
    {
     "data": {
      "text/plain": [
       "(62, 100, 1)"
      ]
     },
     "execution_count": 124,
     "metadata": {},
     "output_type": "execute_result"
    }
   ],
   "source": [
    "X_train.shape"
   ]
  },
  {
   "cell_type": "code",
   "execution_count": 125,
   "id": "d11d7ea9",
   "metadata": {},
   "outputs": [
    {
     "data": {
      "text/plain": [
       "array([[[0.2102086 ],\n",
       "        [0.16399858],\n",
       "        [0.17185146],\n",
       "        ...,\n",
       "        [0.57837491],\n",
       "        [0.56961644],\n",
       "        [0.5228027 ]],\n",
       "\n",
       "       [[0.16399858],\n",
       "        [0.17185146],\n",
       "        [0.18755684],\n",
       "        ...,\n",
       "        [0.56961644],\n",
       "        [0.5228027 ],\n",
       "        [0.50015094]],\n",
       "\n",
       "       [[0.17185146],\n",
       "        [0.18755684],\n",
       "        [0.26427061],\n",
       "        ...,\n",
       "        [0.5228027 ],\n",
       "        [0.50015094],\n",
       "        [0.523105  ]],\n",
       "\n",
       "       ...,\n",
       "\n",
       "       [[0.96466328],\n",
       "        [0.90093631],\n",
       "        [0.89640568],\n",
       "        ...,\n",
       "        [0.5910603 ],\n",
       "        [0.5451526 ],\n",
       "        [0.64270608]],\n",
       "\n",
       "       [[0.90093631],\n",
       "        [0.89640568],\n",
       "        [0.86378753],\n",
       "        ...,\n",
       "        [0.5451526 ],\n",
       "        [0.64270608],\n",
       "        [0.67743861]],\n",
       "\n",
       "       [[0.89640568],\n",
       "        [0.86378753],\n",
       "        [0.84717614],\n",
       "        ...,\n",
       "        [0.64270608],\n",
       "        [0.67743861],\n",
       "        [0.74660224]]])"
      ]
     },
     "execution_count": 125,
     "metadata": {},
     "output_type": "execute_result"
    }
   ],
   "source": [
    "X_test"
   ]
  },
  {
   "cell_type": "code",
   "execution_count": 126,
   "id": "593922d4",
   "metadata": {},
   "outputs": [],
   "source": [
    "# Install TensorFlow\n",
    "#%pip install tensorflow\n"
   ]
  },
  {
   "cell_type": "code",
   "execution_count": 127,
   "id": "78de17c5",
   "metadata": {},
   "outputs": [],
   "source": [
    "## NOW CREATINE LSTM MODEL\n",
    "import tensorflow as tf\n",
    "from tensorflow.keras.models import Sequential\n",
    "from tensorflow.keras.layers import Dense,LSTM,Dropout\n",
    "from tensorflow.keras import layers\n",
    "from tensorflow.keras.optimizers import Adam"
   ]
  },
  {
   "cell_type": "code",
   "execution_count": 128,
   "id": "be66d356",
   "metadata": {},
   "outputs": [],
   "source": [
    "\n",
    "'''model = Sequential()\n",
    "model.add(LSTM(62, return_sequences=True, input_shape=(100, 1)))  # Assuming input sequence length of 100 and input dimension of 1\n",
    "model.add(Dropout(0.2))\n",
    "model.add(LSTM(62, return_sequences=True))\n",
    "model.add(Dropout(0.2))\n",
    "model.add(LSTM(62, return_sequences=False))\n",
    "model.add(Dropout(0.2))\n",
    "model.add(Dense(1),activation='relu')\n",
    "\n",
    "model.compile(optimizer='adam', loss='mse')#specify the optimizer and loss function.\n",
    "model.compile(loss='mean_squared_error',optimizer='adam')'''\n",
    "model = Sequential([layers.Input((3, 1)),\n",
    "                    layers.LSTM(64),\n",
    "                    layers.Dense(32, activation='relu'),\n",
    "                    layers.Dense(32, activation='relu'),\n",
    "                    layers.Dense(1)])\n",
    "model.compile(loss='mse', \n",
    "              optimizer=Adam(learning_rate=0.001),\n",
    "              metrics=['mean_absolute_error'])"
   ]
  },
  {
   "cell_type": "code",
   "execution_count": 129,
   "id": "be361ef0",
   "metadata": {},
   "outputs": [
    {
     "data": {
      "text/html": [
       "<pre style=\"white-space:pre;overflow-x:auto;line-height:normal;font-family:Menlo,'DejaVu Sans Mono',consolas,'Courier New',monospace\"><span style=\"font-weight: bold\">Model: \"sequential_4\"</span>\n",
       "</pre>\n"
      ],
      "text/plain": [
       "\u001b[1mModel: \"sequential_4\"\u001b[0m\n"
      ]
     },
     "metadata": {},
     "output_type": "display_data"
    },
    {
     "data": {
      "text/html": [
       "<pre style=\"white-space:pre;overflow-x:auto;line-height:normal;font-family:Menlo,'DejaVu Sans Mono',consolas,'Courier New',monospace\">┏━━━━━━━━━━━━━━━━━━━━━━━━━━━━━━━━━━━━━━┳━━━━━━━━━━━━━━━━━━━━━━━━━━━━━┳━━━━━━━━━━━━━━━━━┓\n",
       "┃<span style=\"font-weight: bold\"> Layer (type)                         </span>┃<span style=\"font-weight: bold\"> Output Shape                </span>┃<span style=\"font-weight: bold\">         Param # </span>┃\n",
       "┡━━━━━━━━━━━━━━━━━━━━━━━━━━━━━━━━━━━━━━╇━━━━━━━━━━━━━━━━━━━━━━━━━━━━━╇━━━━━━━━━━━━━━━━━┩\n",
       "│ lstm_4 (<span style=\"color: #0087ff; text-decoration-color: #0087ff\">LSTM</span>)                        │ (<span style=\"color: #00d7ff; text-decoration-color: #00d7ff\">None</span>, <span style=\"color: #00af00; text-decoration-color: #00af00\">64</span>)                  │          <span style=\"color: #00af00; text-decoration-color: #00af00\">16,896</span> │\n",
       "├──────────────────────────────────────┼─────────────────────────────┼─────────────────┤\n",
       "│ dense_12 (<span style=\"color: #0087ff; text-decoration-color: #0087ff\">Dense</span>)                     │ (<span style=\"color: #00d7ff; text-decoration-color: #00d7ff\">None</span>, <span style=\"color: #00af00; text-decoration-color: #00af00\">32</span>)                  │           <span style=\"color: #00af00; text-decoration-color: #00af00\">2,080</span> │\n",
       "├──────────────────────────────────────┼─────────────────────────────┼─────────────────┤\n",
       "│ dense_13 (<span style=\"color: #0087ff; text-decoration-color: #0087ff\">Dense</span>)                     │ (<span style=\"color: #00d7ff; text-decoration-color: #00d7ff\">None</span>, <span style=\"color: #00af00; text-decoration-color: #00af00\">32</span>)                  │           <span style=\"color: #00af00; text-decoration-color: #00af00\">1,056</span> │\n",
       "├──────────────────────────────────────┼─────────────────────────────┼─────────────────┤\n",
       "│ dense_14 (<span style=\"color: #0087ff; text-decoration-color: #0087ff\">Dense</span>)                     │ (<span style=\"color: #00d7ff; text-decoration-color: #00d7ff\">None</span>, <span style=\"color: #00af00; text-decoration-color: #00af00\">1</span>)                   │              <span style=\"color: #00af00; text-decoration-color: #00af00\">33</span> │\n",
       "└──────────────────────────────────────┴─────────────────────────────┴─────────────────┘\n",
       "</pre>\n"
      ],
      "text/plain": [
       "┏━━━━━━━━━━━━━━━━━━━━━━━━━━━━━━━━━━━━━━┳━━━━━━━━━━━━━━━━━━━━━━━━━━━━━┳━━━━━━━━━━━━━━━━━┓\n",
       "┃\u001b[1m \u001b[0m\u001b[1mLayer (type)                        \u001b[0m\u001b[1m \u001b[0m┃\u001b[1m \u001b[0m\u001b[1mOutput Shape               \u001b[0m\u001b[1m \u001b[0m┃\u001b[1m \u001b[0m\u001b[1m        Param #\u001b[0m\u001b[1m \u001b[0m┃\n",
       "┡━━━━━━━━━━━━━━━━━━━━━━━━━━━━━━━━━━━━━━╇━━━━━━━━━━━━━━━━━━━━━━━━━━━━━╇━━━━━━━━━━━━━━━━━┩\n",
       "│ lstm_4 (\u001b[38;5;33mLSTM\u001b[0m)                        │ (\u001b[38;5;45mNone\u001b[0m, \u001b[38;5;34m64\u001b[0m)                  │          \u001b[38;5;34m16,896\u001b[0m │\n",
       "├──────────────────────────────────────┼─────────────────────────────┼─────────────────┤\n",
       "│ dense_12 (\u001b[38;5;33mDense\u001b[0m)                     │ (\u001b[38;5;45mNone\u001b[0m, \u001b[38;5;34m32\u001b[0m)                  │           \u001b[38;5;34m2,080\u001b[0m │\n",
       "├──────────────────────────────────────┼─────────────────────────────┼─────────────────┤\n",
       "│ dense_13 (\u001b[38;5;33mDense\u001b[0m)                     │ (\u001b[38;5;45mNone\u001b[0m, \u001b[38;5;34m32\u001b[0m)                  │           \u001b[38;5;34m1,056\u001b[0m │\n",
       "├──────────────────────────────────────┼─────────────────────────────┼─────────────────┤\n",
       "│ dense_14 (\u001b[38;5;33mDense\u001b[0m)                     │ (\u001b[38;5;45mNone\u001b[0m, \u001b[38;5;34m1\u001b[0m)                   │              \u001b[38;5;34m33\u001b[0m │\n",
       "└──────────────────────────────────────┴─────────────────────────────┴─────────────────┘\n"
      ]
     },
     "metadata": {},
     "output_type": "display_data"
    },
    {
     "data": {
      "text/html": [
       "<pre style=\"white-space:pre;overflow-x:auto;line-height:normal;font-family:Menlo,'DejaVu Sans Mono',consolas,'Courier New',monospace\"><span style=\"font-weight: bold\"> Total params: </span><span style=\"color: #00af00; text-decoration-color: #00af00\">20,065</span> (78.38 KB)\n",
       "</pre>\n"
      ],
      "text/plain": [
       "\u001b[1m Total params: \u001b[0m\u001b[38;5;34m20,065\u001b[0m (78.38 KB)\n"
      ]
     },
     "metadata": {},
     "output_type": "display_data"
    },
    {
     "data": {
      "text/html": [
       "<pre style=\"white-space:pre;overflow-x:auto;line-height:normal;font-family:Menlo,'DejaVu Sans Mono',consolas,'Courier New',monospace\"><span style=\"font-weight: bold\"> Trainable params: </span><span style=\"color: #00af00; text-decoration-color: #00af00\">20,065</span> (78.38 KB)\n",
       "</pre>\n"
      ],
      "text/plain": [
       "\u001b[1m Trainable params: \u001b[0m\u001b[38;5;34m20,065\u001b[0m (78.38 KB)\n"
      ]
     },
     "metadata": {},
     "output_type": "display_data"
    },
    {
     "data": {
      "text/html": [
       "<pre style=\"white-space:pre;overflow-x:auto;line-height:normal;font-family:Menlo,'DejaVu Sans Mono',consolas,'Courier New',monospace\"><span style=\"font-weight: bold\"> Non-trainable params: </span><span style=\"color: #00af00; text-decoration-color: #00af00\">0</span> (0.00 B)\n",
       "</pre>\n"
      ],
      "text/plain": [
       "\u001b[1m Non-trainable params: \u001b[0m\u001b[38;5;34m0\u001b[0m (0.00 B)\n"
      ]
     },
     "metadata": {},
     "output_type": "display_data"
    }
   ],
   "source": [
    "model.summary()"
   ]
  },
  {
   "cell_type": "code",
   "execution_count": 141,
   "id": "787ab223",
   "metadata": {},
   "outputs": [
    {
     "name": "stdout",
     "output_type": "stream",
     "text": [
      "Epoch 1/100\n",
      "\u001b[1m1/1\u001b[0m \u001b[32m━━━━━━━━━━━━━━━━━━━━\u001b[0m\u001b[37m\u001b[0m \u001b[1m0s\u001b[0m 103ms/step - loss: 0.0071 - mean_absolute_error: 0.0693 - val_loss: 0.0093 - val_mean_absolute_error: 0.0765\n",
      "Epoch 2/100\n",
      "\u001b[1m1/1\u001b[0m \u001b[32m━━━━━━━━━━━━━━━━━━━━\u001b[0m\u001b[37m\u001b[0m \u001b[1m0s\u001b[0m 73ms/step - loss: 0.0068 - mean_absolute_error: 0.0674 - val_loss: 0.0095 - val_mean_absolute_error: 0.0765\n",
      "Epoch 3/100\n",
      "\u001b[1m1/1\u001b[0m \u001b[32m━━━━━━━━━━━━━━━━━━━━\u001b[0m\u001b[37m\u001b[0m \u001b[1m0s\u001b[0m 73ms/step - loss: 0.0068 - mean_absolute_error: 0.0675 - val_loss: 0.0097 - val_mean_absolute_error: 0.0767\n",
      "Epoch 4/100\n",
      "\u001b[1m1/1\u001b[0m \u001b[32m━━━━━━━━━━━━━━━━━━━━\u001b[0m\u001b[37m\u001b[0m \u001b[1m0s\u001b[0m 77ms/step - loss: 0.0070 - mean_absolute_error: 0.0681 - val_loss: 0.0096 - val_mean_absolute_error: 0.0765\n",
      "Epoch 5/100\n",
      "\u001b[1m1/1\u001b[0m \u001b[32m━━━━━━━━━━━━━━━━━━━━\u001b[0m\u001b[37m\u001b[0m \u001b[1m0s\u001b[0m 77ms/step - loss: 0.0069 - mean_absolute_error: 0.0675 - val_loss: 0.0094 - val_mean_absolute_error: 0.0761\n",
      "Epoch 6/100\n",
      "\u001b[1m1/1\u001b[0m \u001b[32m━━━━━━━━━━━━━━━━━━━━\u001b[0m\u001b[37m\u001b[0m \u001b[1m0s\u001b[0m 70ms/step - loss: 0.0066 - mean_absolute_error: 0.0668 - val_loss: 0.0092 - val_mean_absolute_error: 0.0761\n",
      "Epoch 7/100\n",
      "\u001b[1m1/1\u001b[0m \u001b[32m━━━━━━━━━━━━━━━━━━━━\u001b[0m\u001b[37m\u001b[0m \u001b[1m0s\u001b[0m 72ms/step - loss: 0.0067 - mean_absolute_error: 0.0665 - val_loss: 0.0091 - val_mean_absolute_error: 0.0763\n",
      "Epoch 8/100\n",
      "\u001b[1m1/1\u001b[0m \u001b[32m━━━━━━━━━━━━━━━━━━━━\u001b[0m\u001b[37m\u001b[0m \u001b[1m0s\u001b[0m 69ms/step - loss: 0.0068 - mean_absolute_error: 0.0672 - val_loss: 0.0091 - val_mean_absolute_error: 0.0761\n",
      "Epoch 9/100\n",
      "\u001b[1m1/1\u001b[0m \u001b[32m━━━━━━━━━━━━━━━━━━━━\u001b[0m\u001b[37m\u001b[0m \u001b[1m0s\u001b[0m 65ms/step - loss: 0.0067 - mean_absolute_error: 0.0667 - val_loss: 0.0092 - val_mean_absolute_error: 0.0758\n",
      "Epoch 10/100\n",
      "\u001b[1m1/1\u001b[0m \u001b[32m━━━━━━━━━━━━━━━━━━━━\u001b[0m\u001b[37m\u001b[0m \u001b[1m0s\u001b[0m 81ms/step - loss: 0.0065 - mean_absolute_error: 0.0660 - val_loss: 0.0093 - val_mean_absolute_error: 0.0756\n",
      "Epoch 11/100\n",
      "\u001b[1m1/1\u001b[0m \u001b[32m━━━━━━━━━━━━━━━━━━━━\u001b[0m\u001b[37m\u001b[0m \u001b[1m0s\u001b[0m 69ms/step - loss: 0.0065 - mean_absolute_error: 0.0660 - val_loss: 0.0094 - val_mean_absolute_error: 0.0757\n",
      "Epoch 12/100\n",
      "\u001b[1m1/1\u001b[0m \u001b[32m━━━━━━━━━━━━━━━━━━━━\u001b[0m\u001b[37m\u001b[0m \u001b[1m0s\u001b[0m 71ms/step - loss: 0.0066 - mean_absolute_error: 0.0661 - val_loss: 0.0094 - val_mean_absolute_error: 0.0755\n",
      "Epoch 13/100\n",
      "\u001b[1m1/1\u001b[0m \u001b[32m━━━━━━━━━━━━━━━━━━━━\u001b[0m\u001b[37m\u001b[0m \u001b[1m0s\u001b[0m 70ms/step - loss: 0.0065 - mean_absolute_error: 0.0659 - val_loss: 0.0092 - val_mean_absolute_error: 0.0753\n",
      "Epoch 14/100\n",
      "\u001b[1m1/1\u001b[0m \u001b[32m━━━━━━━━━━━━━━━━━━━━\u001b[0m\u001b[37m\u001b[0m \u001b[1m0s\u001b[0m 65ms/step - loss: 0.0064 - mean_absolute_error: 0.0654 - val_loss: 0.0091 - val_mean_absolute_error: 0.0753\n",
      "Epoch 15/100\n",
      "\u001b[1m1/1\u001b[0m \u001b[32m━━━━━━━━━━━━━━━━━━━━\u001b[0m\u001b[37m\u001b[0m \u001b[1m0s\u001b[0m 79ms/step - loss: 0.0064 - mean_absolute_error: 0.0650 - val_loss: 0.0090 - val_mean_absolute_error: 0.0753\n",
      "Epoch 16/100\n",
      "\u001b[1m1/1\u001b[0m \u001b[32m━━━━━━━━━━━━━━━━━━━━\u001b[0m\u001b[37m\u001b[0m \u001b[1m0s\u001b[0m 73ms/step - loss: 0.0064 - mean_absolute_error: 0.0650 - val_loss: 0.0090 - val_mean_absolute_error: 0.0751\n",
      "Epoch 17/100\n",
      "\u001b[1m1/1\u001b[0m \u001b[32m━━━━━━━━━━━━━━━━━━━━\u001b[0m\u001b[37m\u001b[0m \u001b[1m0s\u001b[0m 72ms/step - loss: 0.0064 - mean_absolute_error: 0.0648 - val_loss: 0.0090 - val_mean_absolute_error: 0.0749\n",
      "Epoch 18/100\n",
      "\u001b[1m1/1\u001b[0m \u001b[32m━━━━━━━━━━━━━━━━━━━━\u001b[0m\u001b[37m\u001b[0m \u001b[1m0s\u001b[0m 68ms/step - loss: 0.0063 - mean_absolute_error: 0.0646 - val_loss: 0.0091 - val_mean_absolute_error: 0.0747\n",
      "Epoch 19/100\n",
      "\u001b[1m1/1\u001b[0m \u001b[32m━━━━━━━━━━━━━━━━━━━━\u001b[0m\u001b[37m\u001b[0m \u001b[1m0s\u001b[0m 72ms/step - loss: 0.0062 - mean_absolute_error: 0.0646 - val_loss: 0.0091 - val_mean_absolute_error: 0.0746\n",
      "Epoch 20/100\n",
      "\u001b[1m1/1\u001b[0m \u001b[32m━━━━━━━━━━━━━━━━━━━━\u001b[0m\u001b[37m\u001b[0m \u001b[1m0s\u001b[0m 70ms/step - loss: 0.0063 - mean_absolute_error: 0.0645 - val_loss: 0.0091 - val_mean_absolute_error: 0.0745\n",
      "Epoch 21/100\n",
      "\u001b[1m1/1\u001b[0m \u001b[32m━━━━━━━━━━━━━━━━━━━━\u001b[0m\u001b[37m\u001b[0m \u001b[1m0s\u001b[0m 65ms/step - loss: 0.0062 - mean_absolute_error: 0.0643 - val_loss: 0.0090 - val_mean_absolute_error: 0.0745\n",
      "Epoch 22/100\n",
      "\u001b[1m1/1\u001b[0m \u001b[32m━━━━━━━━━━━━━━━━━━━━\u001b[0m\u001b[37m\u001b[0m \u001b[1m0s\u001b[0m 71ms/step - loss: 0.0061 - mean_absolute_error: 0.0640 - val_loss: 0.0089 - val_mean_absolute_error: 0.0744\n",
      "Epoch 23/100\n",
      "\u001b[1m1/1\u001b[0m \u001b[32m━━━━━━━━━━━━━━━━━━━━\u001b[0m\u001b[37m\u001b[0m \u001b[1m0s\u001b[0m 64ms/step - loss: 0.0061 - mean_absolute_error: 0.0637 - val_loss: 0.0089 - val_mean_absolute_error: 0.0744\n",
      "Epoch 24/100\n",
      "\u001b[1m1/1\u001b[0m \u001b[32m━━━━━━━━━━━━━━━━━━━━\u001b[0m\u001b[37m\u001b[0m \u001b[1m0s\u001b[0m 82ms/step - loss: 0.0061 - mean_absolute_error: 0.0635 - val_loss: 0.0089 - val_mean_absolute_error: 0.0743\n",
      "Epoch 25/100\n",
      "\u001b[1m1/1\u001b[0m \u001b[32m━━━━━━━━━━━━━━━━━━━━\u001b[0m\u001b[37m\u001b[0m \u001b[1m0s\u001b[0m 65ms/step - loss: 0.0061 - mean_absolute_error: 0.0634 - val_loss: 0.0089 - val_mean_absolute_error: 0.0740\n",
      "Epoch 26/100\n",
      "\u001b[1m1/1\u001b[0m \u001b[32m━━━━━━━━━━━━━━━━━━━━\u001b[0m\u001b[37m\u001b[0m \u001b[1m0s\u001b[0m 82ms/step - loss: 0.0060 - mean_absolute_error: 0.0633 - val_loss: 0.0089 - val_mean_absolute_error: 0.0739\n",
      "Epoch 27/100\n",
      "\u001b[1m1/1\u001b[0m \u001b[32m━━━━━━━━━━━━━━━━━━━━\u001b[0m\u001b[37m\u001b[0m \u001b[1m0s\u001b[0m 65ms/step - loss: 0.0060 - mean_absolute_error: 0.0632 - val_loss: 0.0089 - val_mean_absolute_error: 0.0737\n",
      "Epoch 28/100\n",
      "\u001b[1m1/1\u001b[0m \u001b[32m━━━━━━━━━━━━━━━━━━━━\u001b[0m\u001b[37m\u001b[0m \u001b[1m0s\u001b[0m 78ms/step - loss: 0.0060 - mean_absolute_error: 0.0630 - val_loss: 0.0089 - val_mean_absolute_error: 0.0737\n",
      "Epoch 29/100\n",
      "\u001b[1m1/1\u001b[0m \u001b[32m━━━━━━━━━━━━━━━━━━━━\u001b[0m\u001b[37m\u001b[0m \u001b[1m0s\u001b[0m 71ms/step - loss: 0.0059 - mean_absolute_error: 0.0628 - val_loss: 0.0088 - val_mean_absolute_error: 0.0737\n",
      "Epoch 30/100\n",
      "\u001b[1m1/1\u001b[0m \u001b[32m━━━━━━━━━━━━━━━━━━━━\u001b[0m\u001b[37m\u001b[0m \u001b[1m0s\u001b[0m 77ms/step - loss: 0.0059 - mean_absolute_error: 0.0626 - val_loss: 0.0088 - val_mean_absolute_error: 0.0737\n",
      "Epoch 31/100\n",
      "\u001b[1m1/1\u001b[0m \u001b[32m━━━━━━━━━━━━━━━━━━━━\u001b[0m\u001b[37m\u001b[0m \u001b[1m0s\u001b[0m 66ms/step - loss: 0.0059 - mean_absolute_error: 0.0624 - val_loss: 0.0087 - val_mean_absolute_error: 0.0736\n",
      "Epoch 32/100\n",
      "\u001b[1m1/1\u001b[0m \u001b[32m━━━━━━━━━━━━━━━━━━━━\u001b[0m\u001b[37m\u001b[0m \u001b[1m0s\u001b[0m 78ms/step - loss: 0.0058 - mean_absolute_error: 0.0622 - val_loss: 0.0087 - val_mean_absolute_error: 0.0734\n",
      "Epoch 33/100\n",
      "\u001b[1m1/1\u001b[0m \u001b[32m━━━━━━━━━━━━━━━━━━━━\u001b[0m\u001b[37m\u001b[0m \u001b[1m0s\u001b[0m 70ms/step - loss: 0.0058 - mean_absolute_error: 0.0620 - val_loss: 0.0088 - val_mean_absolute_error: 0.0732\n",
      "Epoch 34/100\n",
      "\u001b[1m1/1\u001b[0m \u001b[32m━━━━━━━━━━━━━━━━━━━━\u001b[0m\u001b[37m\u001b[0m \u001b[1m0s\u001b[0m 72ms/step - loss: 0.0058 - mean_absolute_error: 0.0619 - val_loss: 0.0087 - val_mean_absolute_error: 0.0730\n",
      "Epoch 35/100\n",
      "\u001b[1m1/1\u001b[0m \u001b[32m━━━━━━━━━━━━━━━━━━━━\u001b[0m\u001b[37m\u001b[0m \u001b[1m0s\u001b[0m 70ms/step - loss: 0.0058 - mean_absolute_error: 0.0618 - val_loss: 0.0087 - val_mean_absolute_error: 0.0730\n",
      "Epoch 36/100\n",
      "\u001b[1m1/1\u001b[0m \u001b[32m━━━━━━━━━━━━━━━━━━━━\u001b[0m\u001b[37m\u001b[0m \u001b[1m0s\u001b[0m 70ms/step - loss: 0.0057 - mean_absolute_error: 0.0615 - val_loss: 0.0087 - val_mean_absolute_error: 0.0730\n",
      "Epoch 37/100\n",
      "\u001b[1m1/1\u001b[0m \u001b[32m━━━━━━━━━━━━━━━━━━━━\u001b[0m\u001b[37m\u001b[0m \u001b[1m0s\u001b[0m 77ms/step - loss: 0.0057 - mean_absolute_error: 0.0613 - val_loss: 0.0086 - val_mean_absolute_error: 0.0731\n",
      "Epoch 38/100\n",
      "\u001b[1m1/1\u001b[0m \u001b[32m━━━━━━━━━━━━━━━━━━━━\u001b[0m\u001b[37m\u001b[0m \u001b[1m0s\u001b[0m 77ms/step - loss: 0.0057 - mean_absolute_error: 0.0611 - val_loss: 0.0086 - val_mean_absolute_error: 0.0730\n",
      "Epoch 39/100\n",
      "\u001b[1m1/1\u001b[0m \u001b[32m━━━━━━━━━━━━━━━━━━━━\u001b[0m\u001b[37m\u001b[0m \u001b[1m0s\u001b[0m 67ms/step - loss: 0.0056 - mean_absolute_error: 0.0609 - val_loss: 0.0086 - val_mean_absolute_error: 0.0728\n",
      "Epoch 40/100\n",
      "\u001b[1m1/1\u001b[0m \u001b[32m━━━━━━━━━━━━━━━━━━━━\u001b[0m\u001b[37m\u001b[0m \u001b[1m0s\u001b[0m 83ms/step - loss: 0.0056 - mean_absolute_error: 0.0607 - val_loss: 0.0086 - val_mean_absolute_error: 0.0725\n",
      "Epoch 41/100\n",
      "\u001b[1m1/1\u001b[0m \u001b[32m━━━━━━━━━━━━━━━━━━━━\u001b[0m\u001b[37m\u001b[0m \u001b[1m0s\u001b[0m 64ms/step - loss: 0.0056 - mean_absolute_error: 0.0605 - val_loss: 0.0086 - val_mean_absolute_error: 0.0724\n",
      "Epoch 42/100\n",
      "\u001b[1m1/1\u001b[0m \u001b[32m━━━━━━━━━━━━━━━━━━━━\u001b[0m\u001b[37m\u001b[0m \u001b[1m0s\u001b[0m 67ms/step - loss: 0.0055 - mean_absolute_error: 0.0604 - val_loss: 0.0085 - val_mean_absolute_error: 0.0723\n",
      "Epoch 43/100\n",
      "\u001b[1m1/1\u001b[0m \u001b[32m━━━━━━━━━━━━━━━━━━━━\u001b[0m\u001b[37m\u001b[0m \u001b[1m0s\u001b[0m 74ms/step - loss: 0.0055 - mean_absolute_error: 0.0602 - val_loss: 0.0085 - val_mean_absolute_error: 0.0725\n",
      "Epoch 44/100\n",
      "\u001b[1m1/1\u001b[0m \u001b[32m━━━━━━━━━━━━━━━━━━━━\u001b[0m\u001b[37m\u001b[0m \u001b[1m0s\u001b[0m 71ms/step - loss: 0.0055 - mean_absolute_error: 0.0599 - val_loss: 0.0085 - val_mean_absolute_error: 0.0726\n",
      "Epoch 45/100\n",
      "\u001b[1m1/1\u001b[0m \u001b[32m━━━━━━━━━━━━━━━━━━━━\u001b[0m\u001b[37m\u001b[0m \u001b[1m0s\u001b[0m 70ms/step - loss: 0.0054 - mean_absolute_error: 0.0597 - val_loss: 0.0084 - val_mean_absolute_error: 0.0725\n",
      "Epoch 46/100\n",
      "\u001b[1m1/1\u001b[0m \u001b[32m━━━━━━━━━━━━━━━━━━━━\u001b[0m\u001b[37m\u001b[0m \u001b[1m0s\u001b[0m 60ms/step - loss: 0.0054 - mean_absolute_error: 0.0595 - val_loss: 0.0084 - val_mean_absolute_error: 0.0723\n",
      "Epoch 47/100\n",
      "\u001b[1m1/1\u001b[0m \u001b[32m━━━━━━━━━━━━━━━━━━━━\u001b[0m\u001b[37m\u001b[0m \u001b[1m0s\u001b[0m 84ms/step - loss: 0.0054 - mean_absolute_error: 0.0592 - val_loss: 0.0084 - val_mean_absolute_error: 0.0721\n",
      "Epoch 48/100\n",
      "\u001b[1m1/1\u001b[0m \u001b[32m━━━━━━━━━━━━━━━━━━━━\u001b[0m\u001b[37m\u001b[0m \u001b[1m0s\u001b[0m 70ms/step - loss: 0.0053 - mean_absolute_error: 0.0591 - val_loss: 0.0084 - val_mean_absolute_error: 0.0720\n",
      "Epoch 49/100\n",
      "\u001b[1m1/1\u001b[0m \u001b[32m━━━━━━━━━━━━━━━━━━━━\u001b[0m\u001b[37m\u001b[0m \u001b[1m0s\u001b[0m 59ms/step - loss: 0.0053 - mean_absolute_error: 0.0588 - val_loss: 0.0084 - val_mean_absolute_error: 0.0721\n",
      "Epoch 50/100\n",
      "\u001b[1m1/1\u001b[0m \u001b[32m━━━━━━━━━━━━━━━━━━━━\u001b[0m\u001b[37m\u001b[0m \u001b[1m0s\u001b[0m 70ms/step - loss: 0.0052 - mean_absolute_error: 0.0586 - val_loss: 0.0083 - val_mean_absolute_error: 0.0722\n",
      "Epoch 51/100\n",
      "\u001b[1m1/1\u001b[0m \u001b[32m━━━━━━━━━━━━━━━━━━━━\u001b[0m\u001b[37m\u001b[0m \u001b[1m0s\u001b[0m 69ms/step - loss: 0.0052 - mean_absolute_error: 0.0583 - val_loss: 0.0083 - val_mean_absolute_error: 0.0722\n",
      "Epoch 52/100\n",
      "\u001b[1m1/1\u001b[0m \u001b[32m━━━━━━━━━━━━━━━━━━━━\u001b[0m\u001b[37m\u001b[0m \u001b[1m0s\u001b[0m 70ms/step - loss: 0.0052 - mean_absolute_error: 0.0581 - val_loss: 0.0083 - val_mean_absolute_error: 0.0721\n",
      "Epoch 53/100\n",
      "\u001b[1m1/1\u001b[0m \u001b[32m━━━━━━━━━━━━━━━━━━━━\u001b[0m\u001b[37m\u001b[0m \u001b[1m0s\u001b[0m 70ms/step - loss: 0.0051 - mean_absolute_error: 0.0578 - val_loss: 0.0083 - val_mean_absolute_error: 0.0719\n",
      "Epoch 54/100\n",
      "\u001b[1m1/1\u001b[0m \u001b[32m━━━━━━━━━━━━━━━━━━━━\u001b[0m\u001b[37m\u001b[0m \u001b[1m0s\u001b[0m 62ms/step - loss: 0.0051 - mean_absolute_error: 0.0576 - val_loss: 0.0082 - val_mean_absolute_error: 0.0719\n",
      "Epoch 55/100\n",
      "\u001b[1m1/1\u001b[0m \u001b[32m━━━━━━━━━━━━━━━━━━━━\u001b[0m\u001b[37m\u001b[0m \u001b[1m0s\u001b[0m 81ms/step - loss: 0.0050 - mean_absolute_error: 0.0574 - val_loss: 0.0082 - val_mean_absolute_error: 0.0719\n",
      "Epoch 56/100\n",
      "\u001b[1m1/1\u001b[0m \u001b[32m━━━━━━━━━━━━━━━━━━━━\u001b[0m\u001b[37m\u001b[0m \u001b[1m0s\u001b[0m 71ms/step - loss: 0.0050 - mean_absolute_error: 0.0571 - val_loss: 0.0082 - val_mean_absolute_error: 0.0721\n",
      "Epoch 57/100\n",
      "\u001b[1m1/1\u001b[0m \u001b[32m━━━━━━━━━━━━━━━━━━━━\u001b[0m\u001b[37m\u001b[0m \u001b[1m0s\u001b[0m 60ms/step - loss: 0.0050 - mean_absolute_error: 0.0568 - val_loss: 0.0082 - val_mean_absolute_error: 0.0722\n",
      "Epoch 58/100\n",
      "\u001b[1m1/1\u001b[0m \u001b[32m━━━━━━━━━━━━━━━━━━━━\u001b[0m\u001b[37m\u001b[0m \u001b[1m0s\u001b[0m 70ms/step - loss: 0.0049 - mean_absolute_error: 0.0565 - val_loss: 0.0082 - val_mean_absolute_error: 0.0722\n",
      "Epoch 59/100\n",
      "\u001b[1m1/1\u001b[0m \u001b[32m━━━━━━━━━━━━━━━━━━━━\u001b[0m\u001b[37m\u001b[0m \u001b[1m0s\u001b[0m 74ms/step - loss: 0.0049 - mean_absolute_error: 0.0562 - val_loss: 0.0082 - val_mean_absolute_error: 0.0721\n",
      "Epoch 60/100\n",
      "\u001b[1m1/1\u001b[0m \u001b[32m━━━━━━━━━━━━━━━━━━━━\u001b[0m\u001b[37m\u001b[0m \u001b[1m0s\u001b[0m 67ms/step - loss: 0.0048 - mean_absolute_error: 0.0559 - val_loss: 0.0082 - val_mean_absolute_error: 0.0722\n",
      "Epoch 61/100\n",
      "\u001b[1m1/1\u001b[0m \u001b[32m━━━━━━━━━━━━━━━━━━━━\u001b[0m\u001b[37m\u001b[0m \u001b[1m0s\u001b[0m 85ms/step - loss: 0.0048 - mean_absolute_error: 0.0556 - val_loss: 0.0082 - val_mean_absolute_error: 0.0724\n",
      "Epoch 62/100\n",
      "\u001b[1m1/1\u001b[0m \u001b[32m━━━━━━━━━━━━━━━━━━━━\u001b[0m\u001b[37m\u001b[0m \u001b[1m0s\u001b[0m 69ms/step - loss: 0.0047 - mean_absolute_error: 0.0553 - val_loss: 0.0082 - val_mean_absolute_error: 0.0725\n",
      "Epoch 63/100\n",
      "\u001b[1m1/1\u001b[0m \u001b[32m━━━━━━━━━━━━━━━━━━━━\u001b[0m\u001b[37m\u001b[0m \u001b[1m0s\u001b[0m 72ms/step - loss: 0.0047 - mean_absolute_error: 0.0549 - val_loss: 0.0082 - val_mean_absolute_error: 0.0724\n",
      "Epoch 64/100\n",
      "\u001b[1m1/1\u001b[0m \u001b[32m━━━━━━━━━━━━━━━━━━━━\u001b[0m\u001b[37m\u001b[0m \u001b[1m0s\u001b[0m 61ms/step - loss: 0.0046 - mean_absolute_error: 0.0545 - val_loss: 0.0081 - val_mean_absolute_error: 0.0723\n",
      "Epoch 65/100\n",
      "\u001b[1m1/1\u001b[0m \u001b[32m━━━━━━━━━━━━━━━━━━━━\u001b[0m\u001b[37m\u001b[0m \u001b[1m0s\u001b[0m 67ms/step - loss: 0.0046 - mean_absolute_error: 0.0541 - val_loss: 0.0081 - val_mean_absolute_error: 0.0723\n",
      "Epoch 66/100\n",
      "\u001b[1m1/1\u001b[0m \u001b[32m━━━━━━━━━━━━━━━━━━━━\u001b[0m\u001b[37m\u001b[0m \u001b[1m0s\u001b[0m 83ms/step - loss: 0.0045 - mean_absolute_error: 0.0537 - val_loss: 0.0081 - val_mean_absolute_error: 0.0723\n",
      "Epoch 67/100\n",
      "\u001b[1m1/1\u001b[0m \u001b[32m━━━━━━━━━━━━━━━━━━━━\u001b[0m\u001b[37m\u001b[0m \u001b[1m0s\u001b[0m 71ms/step - loss: 0.0045 - mean_absolute_error: 0.0533 - val_loss: 0.0081 - val_mean_absolute_error: 0.0722\n",
      "Epoch 68/100\n",
      "\u001b[1m1/1\u001b[0m \u001b[32m━━━━━━━━━━━━━━━━━━━━\u001b[0m\u001b[37m\u001b[0m \u001b[1m0s\u001b[0m 67ms/step - loss: 0.0044 - mean_absolute_error: 0.0529 - val_loss: 0.0081 - val_mean_absolute_error: 0.0719\n",
      "Epoch 69/100\n",
      "\u001b[1m1/1\u001b[0m \u001b[32m━━━━━━━━━━━━━━━━━━━━\u001b[0m\u001b[37m\u001b[0m \u001b[1m0s\u001b[0m 83ms/step - loss: 0.0044 - mean_absolute_error: 0.0524 - val_loss: 0.0080 - val_mean_absolute_error: 0.0718\n",
      "Epoch 70/100\n",
      "\u001b[1m1/1\u001b[0m \u001b[32m━━━━━━━━━━━━━━━━━━━━\u001b[0m\u001b[37m\u001b[0m \u001b[1m0s\u001b[0m 71ms/step - loss: 0.0043 - mean_absolute_error: 0.0520 - val_loss: 0.0080 - val_mean_absolute_error: 0.0716\n",
      "Epoch 71/100\n",
      "\u001b[1m1/1\u001b[0m \u001b[32m━━━━━━━━━━━━━━━━━━━━\u001b[0m\u001b[37m\u001b[0m \u001b[1m0s\u001b[0m 63ms/step - loss: 0.0042 - mean_absolute_error: 0.0515 - val_loss: 0.0080 - val_mean_absolute_error: 0.0712\n",
      "Epoch 72/100\n",
      "\u001b[1m1/1\u001b[0m \u001b[32m━━━━━━━━━━━━━━━━━━━━\u001b[0m\u001b[37m\u001b[0m \u001b[1m0s\u001b[0m 83ms/step - loss: 0.0042 - mean_absolute_error: 0.0510 - val_loss: 0.0080 - val_mean_absolute_error: 0.0709\n",
      "Epoch 73/100\n",
      "\u001b[1m1/1\u001b[0m \u001b[32m━━━━━━━━━━━━━━━━━━━━\u001b[0m\u001b[37m\u001b[0m \u001b[1m0s\u001b[0m 67ms/step - loss: 0.0041 - mean_absolute_error: 0.0505 - val_loss: 0.0079 - val_mean_absolute_error: 0.0706\n",
      "Epoch 74/100\n",
      "\u001b[1m1/1\u001b[0m \u001b[32m━━━━━━━━━━━━━━━━━━━━\u001b[0m\u001b[37m\u001b[0m \u001b[1m0s\u001b[0m 83ms/step - loss: 0.0040 - mean_absolute_error: 0.0500 - val_loss: 0.0078 - val_mean_absolute_error: 0.0702\n",
      "Epoch 75/100\n",
      "\u001b[1m1/1\u001b[0m \u001b[32m━━━━━━━━━━━━━━━━━━━━\u001b[0m\u001b[37m\u001b[0m \u001b[1m0s\u001b[0m 71ms/step - loss: 0.0040 - mean_absolute_error: 0.0496 - val_loss: 0.0078 - val_mean_absolute_error: 0.0700\n",
      "Epoch 76/100\n",
      "\u001b[1m1/1\u001b[0m \u001b[32m━━━━━━━━━━━━━━━━━━━━\u001b[0m\u001b[37m\u001b[0m \u001b[1m0s\u001b[0m 79ms/step - loss: 0.0039 - mean_absolute_error: 0.0491 - val_loss: 0.0077 - val_mean_absolute_error: 0.0698\n",
      "Epoch 77/100\n",
      "\u001b[1m1/1\u001b[0m \u001b[32m━━━━━━━━━━━━━━━━━━━━\u001b[0m\u001b[37m\u001b[0m \u001b[1m0s\u001b[0m 83ms/step - loss: 0.0038 - mean_absolute_error: 0.0486 - val_loss: 0.0077 - val_mean_absolute_error: 0.0698\n",
      "Epoch 78/100\n",
      "\u001b[1m1/1\u001b[0m \u001b[32m━━━━━━━━━━━━━━━━━━━━\u001b[0m\u001b[37m\u001b[0m \u001b[1m0s\u001b[0m 72ms/step - loss: 0.0038 - mean_absolute_error: 0.0481 - val_loss: 0.0077 - val_mean_absolute_error: 0.0697\n",
      "Epoch 79/100\n",
      "\u001b[1m1/1\u001b[0m \u001b[32m━━━━━━━━━━━━━━━━━━━━\u001b[0m\u001b[37m\u001b[0m \u001b[1m0s\u001b[0m 71ms/step - loss: 0.0037 - mean_absolute_error: 0.0476 - val_loss: 0.0077 - val_mean_absolute_error: 0.0697\n",
      "Epoch 80/100\n",
      "\u001b[1m1/1\u001b[0m \u001b[32m━━━━━━━━━━━━━━━━━━━━\u001b[0m\u001b[37m\u001b[0m \u001b[1m0s\u001b[0m 76ms/step - loss: 0.0036 - mean_absolute_error: 0.0473 - val_loss: 0.0077 - val_mean_absolute_error: 0.0697\n",
      "Epoch 81/100\n",
      "\u001b[1m1/1\u001b[0m \u001b[32m━━━━━━━━━━━━━━━━━━━━\u001b[0m\u001b[37m\u001b[0m \u001b[1m0s\u001b[0m 65ms/step - loss: 0.0036 - mean_absolute_error: 0.0467 - val_loss: 0.0077 - val_mean_absolute_error: 0.0696\n",
      "Epoch 82/100\n",
      "\u001b[1m1/1\u001b[0m \u001b[32m━━━━━━━━━━━━━━━━━━━━\u001b[0m\u001b[37m\u001b[0m \u001b[1m0s\u001b[0m 83ms/step - loss: 0.0035 - mean_absolute_error: 0.0465 - val_loss: 0.0077 - val_mean_absolute_error: 0.0696\n",
      "Epoch 83/100\n",
      "\u001b[1m1/1\u001b[0m \u001b[32m━━━━━━━━━━━━━━━━━━━━\u001b[0m\u001b[37m\u001b[0m \u001b[1m0s\u001b[0m 83ms/step - loss: 0.0034 - mean_absolute_error: 0.0458 - val_loss: 0.0076 - val_mean_absolute_error: 0.0694\n",
      "Epoch 84/100\n",
      "\u001b[1m1/1\u001b[0m \u001b[32m━━━━━━━━━━━━━━━━━━━━\u001b[0m\u001b[37m\u001b[0m \u001b[1m0s\u001b[0m 70ms/step - loss: 0.0034 - mean_absolute_error: 0.0455 - val_loss: 0.0076 - val_mean_absolute_error: 0.0691\n",
      "Epoch 85/100\n",
      "\u001b[1m1/1\u001b[0m \u001b[32m━━━━━━━━━━━━━━━━━━━━\u001b[0m\u001b[37m\u001b[0m \u001b[1m0s\u001b[0m 62ms/step - loss: 0.0033 - mean_absolute_error: 0.0448 - val_loss: 0.0076 - val_mean_absolute_error: 0.0685\n",
      "Epoch 86/100\n",
      "\u001b[1m1/1\u001b[0m \u001b[32m━━━━━━━━━━━━━━━━━━━━\u001b[0m\u001b[37m\u001b[0m \u001b[1m0s\u001b[0m 78ms/step - loss: 0.0033 - mean_absolute_error: 0.0449 - val_loss: 0.0075 - val_mean_absolute_error: 0.0683\n",
      "Epoch 87/100\n",
      "\u001b[1m1/1\u001b[0m \u001b[32m━━━━━━━━━━━━━━━━━━━━\u001b[0m\u001b[37m\u001b[0m \u001b[1m0s\u001b[0m 75ms/step - loss: 0.0033 - mean_absolute_error: 0.0442 - val_loss: 0.0077 - val_mean_absolute_error: 0.0691\n",
      "Epoch 88/100\n",
      "\u001b[1m1/1\u001b[0m \u001b[32m━━━━━━━━━━━━━━━━━━━━\u001b[0m\u001b[37m\u001b[0m \u001b[1m0s\u001b[0m 71ms/step - loss: 0.0039 - mean_absolute_error: 0.0492 - val_loss: 0.0081 - val_mean_absolute_error: 0.0707\n",
      "Epoch 89/100\n",
      "\u001b[1m1/1\u001b[0m \u001b[32m━━━━━━━━━━━━━━━━━━━━\u001b[0m\u001b[37m\u001b[0m \u001b[1m0s\u001b[0m 67ms/step - loss: 0.0049 - mean_absolute_error: 0.0560 - val_loss: 0.0094 - val_mean_absolute_error: 0.0765\n",
      "Epoch 90/100\n",
      "\u001b[1m1/1\u001b[0m \u001b[32m━━━━━━━━━━━━━━━━━━━━\u001b[0m\u001b[37m\u001b[0m \u001b[1m0s\u001b[0m 67ms/step - loss: 0.0071 - mean_absolute_error: 0.0693 - val_loss: 0.0080 - val_mean_absolute_error: 0.0705\n",
      "Epoch 91/100\n",
      "\u001b[1m1/1\u001b[0m \u001b[32m━━━━━━━━━━━━━━━━━━━━\u001b[0m\u001b[37m\u001b[0m \u001b[1m0s\u001b[0m 71ms/step - loss: 0.0038 - mean_absolute_error: 0.0481 - val_loss: 0.0079 - val_mean_absolute_error: 0.0706\n",
      "Epoch 92/100\n",
      "\u001b[1m1/1\u001b[0m \u001b[32m━━━━━━━━━━━━━━━━━━━━\u001b[0m\u001b[37m\u001b[0m \u001b[1m0s\u001b[0m 65ms/step - loss: 0.0067 - mean_absolute_error: 0.0654 - val_loss: 0.0081 - val_mean_absolute_error: 0.0701\n",
      "Epoch 93/100\n",
      "\u001b[1m1/1\u001b[0m \u001b[32m━━━━━━━━━━━━━━━━━━━━\u001b[0m\u001b[37m\u001b[0m \u001b[1m0s\u001b[0m 71ms/step - loss: 0.0036 - mean_absolute_error: 0.0480 - val_loss: 0.0118 - val_mean_absolute_error: 0.0865\n",
      "Epoch 94/100\n",
      "\u001b[1m1/1\u001b[0m \u001b[32m━━━━━━━━━━━━━━━━━━━━\u001b[0m\u001b[37m\u001b[0m \u001b[1m0s\u001b[0m 83ms/step - loss: 0.0050 - mean_absolute_error: 0.0550 - val_loss: 0.0125 - val_mean_absolute_error: 0.0891\n",
      "Epoch 95/100\n",
      "\u001b[1m1/1\u001b[0m \u001b[32m━━━━━━━━━━━━━━━━━━━━\u001b[0m\u001b[37m\u001b[0m \u001b[1m0s\u001b[0m 82ms/step - loss: 0.0049 - mean_absolute_error: 0.0539 - val_loss: 0.0103 - val_mean_absolute_error: 0.0798\n",
      "Epoch 96/100\n",
      "\u001b[1m1/1\u001b[0m \u001b[32m━━━━━━━━━━━━━━━━━━━━\u001b[0m\u001b[37m\u001b[0m \u001b[1m0s\u001b[0m 84ms/step - loss: 0.0038 - mean_absolute_error: 0.0494 - val_loss: 0.0090 - val_mean_absolute_error: 0.0736\n",
      "Epoch 97/100\n",
      "\u001b[1m1/1\u001b[0m \u001b[32m━━━━━━━━━━━━━━━━━━━━\u001b[0m\u001b[37m\u001b[0m \u001b[1m0s\u001b[0m 79ms/step - loss: 0.0048 - mean_absolute_error: 0.0567 - val_loss: 0.0093 - val_mean_absolute_error: 0.0751\n",
      "Epoch 98/100\n",
      "\u001b[1m1/1\u001b[0m \u001b[32m━━━━━━━━━━━━━━━━━━━━\u001b[0m\u001b[37m\u001b[0m \u001b[1m0s\u001b[0m 67ms/step - loss: 0.0044 - mean_absolute_error: 0.0546 - val_loss: 0.0110 - val_mean_absolute_error: 0.0828\n",
      "Epoch 99/100\n",
      "\u001b[1m1/1\u001b[0m \u001b[32m━━━━━━━━━━━━━━━━━━━━\u001b[0m\u001b[37m\u001b[0m \u001b[1m0s\u001b[0m 71ms/step - loss: 0.0037 - mean_absolute_error: 0.0476 - val_loss: 0.0121 - val_mean_absolute_error: 0.0883\n",
      "Epoch 100/100\n",
      "\u001b[1m1/1\u001b[0m \u001b[32m━━━━━━━━━━━━━━━━━━━━\u001b[0m\u001b[37m\u001b[0m \u001b[1m0s\u001b[0m 63ms/step - loss: 0.0042 - mean_absolute_error: 0.0479 - val_loss: 0.0109 - val_mean_absolute_error: 0.0827\n"
     ]
    },
    {
     "data": {
      "text/plain": [
       "<keras.src.callbacks.history.History at 0x1fb7dd701d0>"
      ]
     },
     "execution_count": 141,
     "metadata": {},
     "output_type": "execute_result"
    }
   ],
   "source": [
    "model.fit(X_train,y_train,epochs=100,batch_size=64,validation_data=(X_test,y_test),validation_split=0.2,verbose=1)"
   ]
  },
  {
   "cell_type": "code",
   "execution_count": 131,
   "id": "a80a432f",
   "metadata": {},
   "outputs": [
    {
     "name": "stdout",
     "output_type": "stream",
     "text": [
      "Epoch 1/100\n",
      "\u001b[1m2/2\u001b[0m \u001b[32m━━━━━━━━━━━━━━━━━━━━\u001b[0m\u001b[37m\u001b[0m \u001b[1m2s\u001b[0m 440ms/step - loss: 0.4368 - mean_absolute_error: 0.6068 - val_loss: 0.1153 - val_mean_absolute_error: 0.2784\n",
      "Epoch 2/100\n",
      "\u001b[1m2/2\u001b[0m \u001b[32m━━━━━━━━━━━━━━━━━━━━\u001b[0m\u001b[37m\u001b[0m \u001b[1m0s\u001b[0m 50ms/step - loss: 0.4001 - mean_absolute_error: 0.5823 - val_loss: 0.1011 - val_mean_absolute_error: 0.2560\n",
      "Epoch 3/100\n",
      "\u001b[1m2/2\u001b[0m \u001b[32m━━━━━━━━━━━━━━━━━━━━\u001b[0m\u001b[37m\u001b[0m \u001b[1m0s\u001b[0m 43ms/step - loss: 0.3691 - mean_absolute_error: 0.5576 - val_loss: 0.0848 - val_mean_absolute_error: 0.2260\n",
      "Epoch 4/100\n",
      "\u001b[1m2/2\u001b[0m \u001b[32m━━━━━━━━━━━━━━━━━━━━\u001b[0m\u001b[37m\u001b[0m \u001b[1m0s\u001b[0m 50ms/step - loss: 0.3183 - mean_absolute_error: 0.5200 - val_loss: 0.0654 - val_mean_absolute_error: 0.1879\n",
      "Epoch 5/100\n",
      "\u001b[1m2/2\u001b[0m \u001b[32m━━━━━━━━━━━━━━━━━━━━\u001b[0m\u001b[37m\u001b[0m \u001b[1m0s\u001b[0m 50ms/step - loss: 0.2407 - mean_absolute_error: 0.4437 - val_loss: 0.0466 - val_mean_absolute_error: 0.1526\n",
      "Epoch 6/100\n",
      "\u001b[1m2/2\u001b[0m \u001b[32m━━━━━━━━━━━━━━━━━━━━\u001b[0m\u001b[37m\u001b[0m \u001b[1m0s\u001b[0m 43ms/step - loss: 0.1750 - mean_absolute_error: 0.3726 - val_loss: 0.0328 - val_mean_absolute_error: 0.1364\n",
      "Epoch 7/100\n",
      "\u001b[1m2/2\u001b[0m \u001b[32m━━━━━━━━━━━━━━━━━━━━\u001b[0m\u001b[37m\u001b[0m \u001b[1m0s\u001b[0m 49ms/step - loss: 0.1054 - mean_absolute_error: 0.2834 - val_loss: 0.0341 - val_mean_absolute_error: 0.1556\n",
      "Epoch 8/100\n",
      "\u001b[1m2/2\u001b[0m \u001b[32m━━━━━━━━━━━━━━━━━━━━\u001b[0m\u001b[37m\u001b[0m \u001b[1m0s\u001b[0m 49ms/step - loss: 0.0459 - mean_absolute_error: 0.1892 - val_loss: 0.0844 - val_mean_absolute_error: 0.2686\n",
      "Epoch 9/100\n",
      "\u001b[1m2/2\u001b[0m \u001b[32m━━━━━━━━━━━━━━━━━━━━\u001b[0m\u001b[37m\u001b[0m \u001b[1m0s\u001b[0m 50ms/step - loss: 0.0423 - mean_absolute_error: 0.1590 - val_loss: 0.1483 - val_mean_absolute_error: 0.3489\n",
      "Epoch 10/100\n",
      "\u001b[1m2/2\u001b[0m \u001b[32m━━━━━━━━━━━━━━━━━━━━\u001b[0m\u001b[37m\u001b[0m \u001b[1m0s\u001b[0m 50ms/step - loss: 0.0713 - mean_absolute_error: 0.2097 - val_loss: 0.1053 - val_mean_absolute_error: 0.2964\n",
      "Epoch 11/100\n",
      "\u001b[1m2/2\u001b[0m \u001b[32m━━━━━━━━━━━━━━━━━━━━\u001b[0m\u001b[37m\u001b[0m \u001b[1m0s\u001b[0m 47ms/step - loss: 0.0531 - mean_absolute_error: 0.1710 - val_loss: 0.0629 - val_mean_absolute_error: 0.2302\n",
      "Epoch 12/100\n",
      "\u001b[1m2/2\u001b[0m \u001b[32m━━━━━━━━━━━━━━━━━━━━\u001b[0m\u001b[37m\u001b[0m \u001b[1m0s\u001b[0m 51ms/step - loss: 0.0295 - mean_absolute_error: 0.1331 - val_loss: 0.0419 - val_mean_absolute_error: 0.1853\n",
      "Epoch 13/100\n",
      "\u001b[1m2/2\u001b[0m \u001b[32m━━━━━━━━━━━━━━━━━━━━\u001b[0m\u001b[37m\u001b[0m \u001b[1m0s\u001b[0m 50ms/step - loss: 0.0245 - mean_absolute_error: 0.1345 - val_loss: 0.0328 - val_mean_absolute_error: 0.1602\n",
      "Epoch 14/100\n",
      "\u001b[1m2/2\u001b[0m \u001b[32m━━━━━━━━━━━━━━━━━━━━\u001b[0m\u001b[37m\u001b[0m \u001b[1m0s\u001b[0m 46ms/step - loss: 0.0275 - mean_absolute_error: 0.1508 - val_loss: 0.0297 - val_mean_absolute_error: 0.1499\n",
      "Epoch 15/100\n",
      "\u001b[1m2/2\u001b[0m \u001b[32m━━━━━━━━━━━━━━━━━━━━\u001b[0m\u001b[37m\u001b[0m \u001b[1m0s\u001b[0m 50ms/step - loss: 0.0311 - mean_absolute_error: 0.1607 - val_loss: 0.0289 - val_mean_absolute_error: 0.1475\n",
      "Epoch 16/100\n",
      "\u001b[1m2/2\u001b[0m \u001b[32m━━━━━━━━━━━━━━━━━━━━\u001b[0m\u001b[37m\u001b[0m \u001b[1m0s\u001b[0m 49ms/step - loss: 0.0306 - mean_absolute_error: 0.1580 - val_loss: 0.0298 - val_mean_absolute_error: 0.1510\n",
      "Epoch 17/100\n",
      "\u001b[1m2/2\u001b[0m \u001b[32m━━━━━━━━━━━━━━━━━━━━\u001b[0m\u001b[37m\u001b[0m \u001b[1m0s\u001b[0m 51ms/step - loss: 0.0282 - mean_absolute_error: 0.1512 - val_loss: 0.0316 - val_mean_absolute_error: 0.1575\n",
      "Epoch 18/100\n",
      "\u001b[1m2/2\u001b[0m \u001b[32m━━━━━━━━━━━━━━━━━━━━\u001b[0m\u001b[37m\u001b[0m \u001b[1m0s\u001b[0m 49ms/step - loss: 0.0258 - mean_absolute_error: 0.1433 - val_loss: 0.0344 - val_mean_absolute_error: 0.1663\n",
      "Epoch 19/100\n",
      "\u001b[1m2/2\u001b[0m \u001b[32m━━━━━━━━━━━━━━━━━━━━\u001b[0m\u001b[37m\u001b[0m \u001b[1m0s\u001b[0m 48ms/step - loss: 0.0227 - mean_absolute_error: 0.1300 - val_loss: 0.0376 - val_mean_absolute_error: 0.1749\n",
      "Epoch 20/100\n",
      "\u001b[1m2/2\u001b[0m \u001b[32m━━━━━━━━━━━━━━━━━━━━\u001b[0m\u001b[37m\u001b[0m \u001b[1m0s\u001b[0m 62ms/step - loss: 0.0215 - mean_absolute_error: 0.1212 - val_loss: 0.0402 - val_mean_absolute_error: 0.1811\n",
      "Epoch 21/100\n",
      "\u001b[1m2/2\u001b[0m \u001b[32m━━━━━━━━━━━━━━━━━━━━\u001b[0m\u001b[37m\u001b[0m \u001b[1m0s\u001b[0m 48ms/step - loss: 0.0197 - mean_absolute_error: 0.1115 - val_loss: 0.0417 - val_mean_absolute_error: 0.1846\n",
      "Epoch 22/100\n",
      "\u001b[1m2/2\u001b[0m \u001b[32m━━━━━━━━━━━━━━━━━━━━\u001b[0m\u001b[37m\u001b[0m \u001b[1m0s\u001b[0m 49ms/step - loss: 0.0218 - mean_absolute_error: 0.1157 - val_loss: 0.0406 - val_mean_absolute_error: 0.1819\n",
      "Epoch 23/100\n",
      "\u001b[1m2/2\u001b[0m \u001b[32m━━━━━━━━━━━━━━━━━━━━\u001b[0m\u001b[37m\u001b[0m \u001b[1m0s\u001b[0m 51ms/step - loss: 0.0204 - mean_absolute_error: 0.1117 - val_loss: 0.0378 - val_mean_absolute_error: 0.1752\n",
      "Epoch 24/100\n",
      "\u001b[1m2/2\u001b[0m \u001b[32m━━━━━━━━━━━━━━━━━━━━\u001b[0m\u001b[37m\u001b[0m \u001b[1m0s\u001b[0m 47ms/step - loss: 0.0196 - mean_absolute_error: 0.1093 - val_loss: 0.0343 - val_mean_absolute_error: 0.1664\n",
      "Epoch 25/100\n",
      "\u001b[1m2/2\u001b[0m \u001b[32m━━━━━━━━━━━━━━━━━━━━\u001b[0m\u001b[37m\u001b[0m \u001b[1m0s\u001b[0m 49ms/step - loss: 0.0181 - mean_absolute_error: 0.1085 - val_loss: 0.0315 - val_mean_absolute_error: 0.1585\n",
      "Epoch 26/100\n",
      "\u001b[1m2/2\u001b[0m \u001b[32m━━━━━━━━━━━━━━━━━━━━\u001b[0m\u001b[37m\u001b[0m \u001b[1m0s\u001b[0m 50ms/step - loss: 0.0174 - mean_absolute_error: 0.1093 - val_loss: 0.0292 - val_mean_absolute_error: 0.1521\n",
      "Epoch 27/100\n",
      "\u001b[1m2/2\u001b[0m \u001b[32m━━━━━━━━━━━━━━━━━━━━\u001b[0m\u001b[37m\u001b[0m \u001b[1m0s\u001b[0m 49ms/step - loss: 0.0180 - mean_absolute_error: 0.1153 - val_loss: 0.0284 - val_mean_absolute_error: 0.1495\n",
      "Epoch 28/100\n",
      "\u001b[1m2/2\u001b[0m \u001b[32m━━━━━━━━━━━━━━━━━━━━\u001b[0m\u001b[37m\u001b[0m \u001b[1m0s\u001b[0m 49ms/step - loss: 0.0174 - mean_absolute_error: 0.1109 - val_loss: 0.0280 - val_mean_absolute_error: 0.1483\n",
      "Epoch 29/100\n",
      "\u001b[1m2/2\u001b[0m \u001b[32m━━━━━━━━━━━━━━━━━━━━\u001b[0m\u001b[37m\u001b[0m \u001b[1m0s\u001b[0m 50ms/step - loss: 0.0183 - mean_absolute_error: 0.1123 - val_loss: 0.0284 - val_mean_absolute_error: 0.1499\n",
      "Epoch 30/100\n",
      "\u001b[1m2/2\u001b[0m \u001b[32m━━━━━━━━━━━━━━━━━━━━\u001b[0m\u001b[37m\u001b[0m \u001b[1m0s\u001b[0m 49ms/step - loss: 0.0182 - mean_absolute_error: 0.1088 - val_loss: 0.0291 - val_mean_absolute_error: 0.1519\n",
      "Epoch 31/100\n",
      "\u001b[1m2/2\u001b[0m \u001b[32m━━━━━━━━━━━━━━━━━━━━\u001b[0m\u001b[37m\u001b[0m \u001b[1m0s\u001b[0m 50ms/step - loss: 0.0173 - mean_absolute_error: 0.1050 - val_loss: 0.0294 - val_mean_absolute_error: 0.1526\n",
      "Epoch 32/100\n",
      "\u001b[1m2/2\u001b[0m \u001b[32m━━━━━━━━━━━━━━━━━━━━\u001b[0m\u001b[37m\u001b[0m \u001b[1m0s\u001b[0m 46ms/step - loss: 0.0171 - mean_absolute_error: 0.1019 - val_loss: 0.0287 - val_mean_absolute_error: 0.1507\n",
      "Epoch 33/100\n",
      "\u001b[1m2/2\u001b[0m \u001b[32m━━━━━━━━━━━━━━━━━━━━\u001b[0m\u001b[37m\u001b[0m \u001b[1m0s\u001b[0m 50ms/step - loss: 0.0178 - mean_absolute_error: 0.1053 - val_loss: 0.0271 - val_mean_absolute_error: 0.1460\n",
      "Epoch 34/100\n",
      "\u001b[1m2/2\u001b[0m \u001b[32m━━━━━━━━━━━━━━━━━━━━\u001b[0m\u001b[37m\u001b[0m \u001b[1m0s\u001b[0m 50ms/step - loss: 0.0165 - mean_absolute_error: 0.1022 - val_loss: 0.0250 - val_mean_absolute_error: 0.1394\n",
      "Epoch 35/100\n",
      "\u001b[1m2/2\u001b[0m \u001b[32m━━━━━━━━━━━━━━━━━━━━\u001b[0m\u001b[37m\u001b[0m \u001b[1m0s\u001b[0m 45ms/step - loss: 0.0170 - mean_absolute_error: 0.1063 - val_loss: 0.0232 - val_mean_absolute_error: 0.1335\n",
      "Epoch 36/100\n",
      "\u001b[1m2/2\u001b[0m \u001b[32m━━━━━━━━━━━━━━━━━━━━\u001b[0m\u001b[37m\u001b[0m \u001b[1m0s\u001b[0m 51ms/step - loss: 0.0167 - mean_absolute_error: 0.1047 - val_loss: 0.0220 - val_mean_absolute_error: 0.1291\n",
      "Epoch 37/100\n",
      "\u001b[1m2/2\u001b[0m \u001b[32m━━━━━━━━━━━━━━━━━━━━\u001b[0m\u001b[37m\u001b[0m \u001b[1m0s\u001b[0m 47ms/step - loss: 0.0148 - mean_absolute_error: 0.0997 - val_loss: 0.0221 - val_mean_absolute_error: 0.1296\n",
      "Epoch 38/100\n",
      "\u001b[1m2/2\u001b[0m \u001b[32m━━━━━━━━━━━━━━━━━━━━\u001b[0m\u001b[37m\u001b[0m \u001b[1m0s\u001b[0m 51ms/step - loss: 0.0163 - mean_absolute_error: 0.1040 - val_loss: 0.0220 - val_mean_absolute_error: 0.1293\n",
      "Epoch 39/100\n",
      "\u001b[1m2/2\u001b[0m \u001b[32m━━━━━━━━━━━━━━━━━━━━\u001b[0m\u001b[37m\u001b[0m \u001b[1m0s\u001b[0m 49ms/step - loss: 0.0156 - mean_absolute_error: 0.1011 - val_loss: 0.0219 - val_mean_absolute_error: 0.1290\n",
      "Epoch 40/100\n",
      "\u001b[1m2/2\u001b[0m \u001b[32m━━━━━━━━━━━━━━━━━━━━\u001b[0m\u001b[37m\u001b[0m \u001b[1m0s\u001b[0m 47ms/step - loss: 0.0163 - mean_absolute_error: 0.1030 - val_loss: 0.0213 - val_mean_absolute_error: 0.1267\n",
      "Epoch 41/100\n",
      "\u001b[1m2/2\u001b[0m \u001b[32m━━━━━━━━━━━━━━━━━━━━\u001b[0m\u001b[37m\u001b[0m \u001b[1m0s\u001b[0m 50ms/step - loss: 0.0153 - mean_absolute_error: 0.0991 - val_loss: 0.0200 - val_mean_absolute_error: 0.1221\n",
      "Epoch 42/100\n",
      "\u001b[1m2/2\u001b[0m \u001b[32m━━━━━━━━━━━━━━━━━━━━\u001b[0m\u001b[37m\u001b[0m \u001b[1m0s\u001b[0m 50ms/step - loss: 0.0138 - mean_absolute_error: 0.0949 - val_loss: 0.0191 - val_mean_absolute_error: 0.1186\n",
      "Epoch 43/100\n",
      "\u001b[1m2/2\u001b[0m \u001b[32m━━━━━━━━━━━━━━━━━━━━\u001b[0m\u001b[37m\u001b[0m \u001b[1m0s\u001b[0m 49ms/step - loss: 0.0146 - mean_absolute_error: 0.0956 - val_loss: 0.0180 - val_mean_absolute_error: 0.1141\n",
      "Epoch 44/100\n",
      "\u001b[1m2/2\u001b[0m \u001b[32m━━━━━━━━━━━━━━━━━━━━\u001b[0m\u001b[37m\u001b[0m \u001b[1m0s\u001b[0m 50ms/step - loss: 0.0137 - mean_absolute_error: 0.0939 - val_loss: 0.0175 - val_mean_absolute_error: 0.1120\n",
      "Epoch 45/100\n",
      "\u001b[1m2/2\u001b[0m \u001b[32m━━━━━━━━━━━━━━━━━━━━\u001b[0m\u001b[37m\u001b[0m \u001b[1m0s\u001b[0m 51ms/step - loss: 0.0130 - mean_absolute_error: 0.0929 - val_loss: 0.0176 - val_mean_absolute_error: 0.1126\n",
      "Epoch 46/100\n",
      "\u001b[1m2/2\u001b[0m \u001b[32m━━━━━━━━━━━━━━━━━━━━\u001b[0m\u001b[37m\u001b[0m \u001b[1m0s\u001b[0m 52ms/step - loss: 0.0125 - mean_absolute_error: 0.0888 - val_loss: 0.0174 - val_mean_absolute_error: 0.1114\n",
      "Epoch 47/100\n",
      "\u001b[1m2/2\u001b[0m \u001b[32m━━━━━━━━━━━━━━━━━━━━\u001b[0m\u001b[37m\u001b[0m \u001b[1m0s\u001b[0m 49ms/step - loss: 0.0132 - mean_absolute_error: 0.0920 - val_loss: 0.0163 - val_mean_absolute_error: 0.1067\n",
      "Epoch 48/100\n",
      "\u001b[1m2/2\u001b[0m \u001b[32m━━━━━━━━━━━━━━━━━━━━\u001b[0m\u001b[37m\u001b[0m \u001b[1m0s\u001b[0m 51ms/step - loss: 0.0117 - mean_absolute_error: 0.0876 - val_loss: 0.0152 - val_mean_absolute_error: 0.1023\n",
      "Epoch 49/100\n",
      "\u001b[1m2/2\u001b[0m \u001b[32m━━━━━━━━━━━━━━━━━━━━\u001b[0m\u001b[37m\u001b[0m \u001b[1m0s\u001b[0m 50ms/step - loss: 0.0120 - mean_absolute_error: 0.0894 - val_loss: 0.0147 - val_mean_absolute_error: 0.0998\n",
      "Epoch 50/100\n",
      "\u001b[1m2/2\u001b[0m \u001b[32m━━━━━━━━━━━━━━━━━━━━\u001b[0m\u001b[37m\u001b[0m \u001b[1m0s\u001b[0m 48ms/step - loss: 0.0127 - mean_absolute_error: 0.0951 - val_loss: 0.0149 - val_mean_absolute_error: 0.1007\n",
      "Epoch 51/100\n",
      "\u001b[1m2/2\u001b[0m \u001b[32m━━━━━━━━━━━━━━━━━━━━\u001b[0m\u001b[37m\u001b[0m \u001b[1m0s\u001b[0m 41ms/step - loss: 0.0128 - mean_absolute_error: 0.0915 - val_loss: 0.0145 - val_mean_absolute_error: 0.0985\n",
      "Epoch 52/100\n",
      "\u001b[1m2/2\u001b[0m \u001b[32m━━━━━━━━━━━━━━━━━━━━\u001b[0m\u001b[37m\u001b[0m \u001b[1m0s\u001b[0m 50ms/step - loss: 0.0131 - mean_absolute_error: 0.0943 - val_loss: 0.0143 - val_mean_absolute_error: 0.0977\n",
      "Epoch 53/100\n",
      "\u001b[1m2/2\u001b[0m \u001b[32m━━━━━━━━━━━━━━━━━━━━\u001b[0m\u001b[37m\u001b[0m \u001b[1m0s\u001b[0m 49ms/step - loss: 0.0111 - mean_absolute_error: 0.0859 - val_loss: 0.0138 - val_mean_absolute_error: 0.0953\n",
      "Epoch 54/100\n",
      "\u001b[1m2/2\u001b[0m \u001b[32m━━━━━━━━━━━━━━━━━━━━\u001b[0m\u001b[37m\u001b[0m \u001b[1m0s\u001b[0m 41ms/step - loss: 0.0121 - mean_absolute_error: 0.0884 - val_loss: 0.0132 - val_mean_absolute_error: 0.0926\n",
      "Epoch 55/100\n",
      "\u001b[1m2/2\u001b[0m \u001b[32m━━━━━━━━━━━━━━━━━━━━\u001b[0m\u001b[37m\u001b[0m \u001b[1m0s\u001b[0m 54ms/step - loss: 0.0106 - mean_absolute_error: 0.0846 - val_loss: 0.0130 - val_mean_absolute_error: 0.0917\n",
      "Epoch 56/100\n",
      "\u001b[1m2/2\u001b[0m \u001b[32m━━━━━━━━━━━━━━━━━━━━\u001b[0m\u001b[37m\u001b[0m \u001b[1m0s\u001b[0m 46ms/step - loss: 0.0107 - mean_absolute_error: 0.0850 - val_loss: 0.0129 - val_mean_absolute_error: 0.0910\n",
      "Epoch 57/100\n",
      "\u001b[1m2/2\u001b[0m \u001b[32m━━━━━━━━━━━━━━━━━━━━\u001b[0m\u001b[37m\u001b[0m \u001b[1m0s\u001b[0m 50ms/step - loss: 0.0108 - mean_absolute_error: 0.0845 - val_loss: 0.0126 - val_mean_absolute_error: 0.0900\n",
      "Epoch 58/100\n",
      "\u001b[1m2/2\u001b[0m \u001b[32m━━━━━━━━━━━━━━━━━━━━\u001b[0m\u001b[37m\u001b[0m \u001b[1m0s\u001b[0m 51ms/step - loss: 0.0104 - mean_absolute_error: 0.0833 - val_loss: 0.0123 - val_mean_absolute_error: 0.0889\n",
      "Epoch 59/100\n",
      "\u001b[1m2/2\u001b[0m \u001b[32m━━━━━━━━━━━━━━━━━━━━\u001b[0m\u001b[37m\u001b[0m \u001b[1m0s\u001b[0m 47ms/step - loss: 0.0108 - mean_absolute_error: 0.0851 - val_loss: 0.0119 - val_mean_absolute_error: 0.0875\n",
      "Epoch 60/100\n",
      "\u001b[1m2/2\u001b[0m \u001b[32m━━━━━━━━━━━━━━━━━━━━\u001b[0m\u001b[37m\u001b[0m \u001b[1m0s\u001b[0m 50ms/step - loss: 0.0111 - mean_absolute_error: 0.0879 - val_loss: 0.0116 - val_mean_absolute_error: 0.0868\n",
      "Epoch 61/100\n",
      "\u001b[1m2/2\u001b[0m \u001b[32m━━━━━━━━━━━━━━━━━━━━\u001b[0m\u001b[37m\u001b[0m \u001b[1m0s\u001b[0m 49ms/step - loss: 0.0106 - mean_absolute_error: 0.0861 - val_loss: 0.0119 - val_mean_absolute_error: 0.0870\n",
      "Epoch 62/100\n",
      "\u001b[1m2/2\u001b[0m \u001b[32m━━━━━━━━━━━━━━━━━━━━\u001b[0m\u001b[37m\u001b[0m \u001b[1m0s\u001b[0m 49ms/step - loss: 0.0108 - mean_absolute_error: 0.0849 - val_loss: 0.0116 - val_mean_absolute_error: 0.0860\n",
      "Epoch 63/100\n",
      "\u001b[1m2/2\u001b[0m \u001b[32m━━━━━━━━━━━━━━━━━━━━\u001b[0m\u001b[37m\u001b[0m \u001b[1m0s\u001b[0m 44ms/step - loss: 0.0101 - mean_absolute_error: 0.0835 - val_loss: 0.0113 - val_mean_absolute_error: 0.0854\n",
      "Epoch 64/100\n",
      "\u001b[1m2/2\u001b[0m \u001b[32m━━━━━━━━━━━━━━━━━━━━\u001b[0m\u001b[37m\u001b[0m \u001b[1m0s\u001b[0m 50ms/step - loss: 0.0093 - mean_absolute_error: 0.0807 - val_loss: 0.0112 - val_mean_absolute_error: 0.0850\n",
      "Epoch 65/100\n",
      "\u001b[1m2/2\u001b[0m \u001b[32m━━━━━━━━━━━━━━━━━━━━\u001b[0m\u001b[37m\u001b[0m \u001b[1m0s\u001b[0m 49ms/step - loss: 0.0097 - mean_absolute_error: 0.0819 - val_loss: 0.0113 - val_mean_absolute_error: 0.0848\n",
      "Epoch 66/100\n",
      "\u001b[1m2/2\u001b[0m \u001b[32m━━━━━━━━━━━━━━━━━━━━\u001b[0m\u001b[37m\u001b[0m \u001b[1m0s\u001b[0m 46ms/step - loss: 0.0100 - mean_absolute_error: 0.0827 - val_loss: 0.0112 - val_mean_absolute_error: 0.0845\n",
      "Epoch 67/100\n",
      "\u001b[1m2/2\u001b[0m \u001b[32m━━━━━━━━━━━━━━━━━━━━\u001b[0m\u001b[37m\u001b[0m \u001b[1m0s\u001b[0m 50ms/step - loss: 0.0092 - mean_absolute_error: 0.0800 - val_loss: 0.0108 - val_mean_absolute_error: 0.0840\n",
      "Epoch 68/100\n",
      "\u001b[1m2/2\u001b[0m \u001b[32m━━━━━━━━━━━━━━━━━━━━\u001b[0m\u001b[37m\u001b[0m \u001b[1m0s\u001b[0m 50ms/step - loss: 0.0091 - mean_absolute_error: 0.0802 - val_loss: 0.0108 - val_mean_absolute_error: 0.0836\n",
      "Epoch 69/100\n",
      "\u001b[1m2/2\u001b[0m \u001b[32m━━━━━━━━━━━━━━━━━━━━\u001b[0m\u001b[37m\u001b[0m \u001b[1m0s\u001b[0m 48ms/step - loss: 0.0097 - mean_absolute_error: 0.0831 - val_loss: 0.0108 - val_mean_absolute_error: 0.0832\n",
      "Epoch 70/100\n",
      "\u001b[1m2/2\u001b[0m \u001b[32m━━━━━━━━━━━━━━━━━━━━\u001b[0m\u001b[37m\u001b[0m \u001b[1m0s\u001b[0m 49ms/step - loss: 0.0090 - mean_absolute_error: 0.0798 - val_loss: 0.0109 - val_mean_absolute_error: 0.0830\n",
      "Epoch 71/100\n",
      "\u001b[1m2/2\u001b[0m \u001b[32m━━━━━━━━━━━━━━━━━━━━\u001b[0m\u001b[37m\u001b[0m \u001b[1m0s\u001b[0m 50ms/step - loss: 0.0094 - mean_absolute_error: 0.0810 - val_loss: 0.0105 - val_mean_absolute_error: 0.0825\n",
      "Epoch 72/100\n",
      "\u001b[1m2/2\u001b[0m \u001b[32m━━━━━━━━━━━━━━━━━━━━\u001b[0m\u001b[37m\u001b[0m \u001b[1m0s\u001b[0m 43ms/step - loss: 0.0096 - mean_absolute_error: 0.0805 - val_loss: 0.0104 - val_mean_absolute_error: 0.0824\n",
      "Epoch 73/100\n",
      "\u001b[1m2/2\u001b[0m \u001b[32m━━━━━━━━━━━━━━━━━━━━\u001b[0m\u001b[37m\u001b[0m \u001b[1m0s\u001b[0m 49ms/step - loss: 0.0093 - mean_absolute_error: 0.0804 - val_loss: 0.0105 - val_mean_absolute_error: 0.0818\n",
      "Epoch 74/100\n",
      "\u001b[1m2/2\u001b[0m \u001b[32m━━━━━━━━━━━━━━━━━━━━\u001b[0m\u001b[37m\u001b[0m \u001b[1m0s\u001b[0m 51ms/step - loss: 0.0089 - mean_absolute_error: 0.0776 - val_loss: 0.0106 - val_mean_absolute_error: 0.0817\n",
      "Epoch 75/100\n",
      "\u001b[1m2/2\u001b[0m \u001b[32m━━━━━━━━━━━━━━━━━━━━\u001b[0m\u001b[37m\u001b[0m \u001b[1m0s\u001b[0m 46ms/step - loss: 0.0097 - mean_absolute_error: 0.0813 - val_loss: 0.0103 - val_mean_absolute_error: 0.0812\n",
      "Epoch 76/100\n",
      "\u001b[1m2/2\u001b[0m \u001b[32m━━━━━━━━━━━━━━━━━━━━\u001b[0m\u001b[37m\u001b[0m \u001b[1m0s\u001b[0m 51ms/step - loss: 0.0087 - mean_absolute_error: 0.0766 - val_loss: 0.0104 - val_mean_absolute_error: 0.0811\n",
      "Epoch 77/100\n",
      "\u001b[1m2/2\u001b[0m \u001b[32m━━━━━━━━━━━━━━━━━━━━\u001b[0m\u001b[37m\u001b[0m \u001b[1m0s\u001b[0m 49ms/step - loss: 0.0082 - mean_absolute_error: 0.0732 - val_loss: 0.0102 - val_mean_absolute_error: 0.0809\n",
      "Epoch 78/100\n",
      "\u001b[1m2/2\u001b[0m \u001b[32m━━━━━━━━━━━━━━━━━━━━\u001b[0m\u001b[37m\u001b[0m \u001b[1m0s\u001b[0m 43ms/step - loss: 0.0088 - mean_absolute_error: 0.0769 - val_loss: 0.0101 - val_mean_absolute_error: 0.0808\n",
      "Epoch 79/100\n",
      "\u001b[1m2/2\u001b[0m \u001b[32m━━━━━━━━━━━━━━━━━━━━\u001b[0m\u001b[37m\u001b[0m \u001b[1m0s\u001b[0m 50ms/step - loss: 0.0089 - mean_absolute_error: 0.0795 - val_loss: 0.0101 - val_mean_absolute_error: 0.0809\n",
      "Epoch 80/100\n",
      "\u001b[1m2/2\u001b[0m \u001b[32m━━━━━━━━━━━━━━━━━━━━\u001b[0m\u001b[37m\u001b[0m \u001b[1m0s\u001b[0m 49ms/step - loss: 0.0089 - mean_absolute_error: 0.0789 - val_loss: 0.0102 - val_mean_absolute_error: 0.0804\n",
      "Epoch 81/100\n",
      "\u001b[1m2/2\u001b[0m \u001b[32m━━━━━━━━━━━━━━━━━━━━\u001b[0m\u001b[37m\u001b[0m \u001b[1m0s\u001b[0m 50ms/step - loss: 0.0083 - mean_absolute_error: 0.0739 - val_loss: 0.0103 - val_mean_absolute_error: 0.0804\n",
      "Epoch 82/100\n",
      "\u001b[1m2/2\u001b[0m \u001b[32m━━━━━━━━━━━━━━━━━━━━\u001b[0m\u001b[37m\u001b[0m \u001b[1m0s\u001b[0m 50ms/step - loss: 0.0083 - mean_absolute_error: 0.0753 - val_loss: 0.0102 - val_mean_absolute_error: 0.0800\n",
      "Epoch 83/100\n",
      "\u001b[1m2/2\u001b[0m \u001b[32m━━━━━━━━━━━━━━━━━━━━\u001b[0m\u001b[37m\u001b[0m \u001b[1m0s\u001b[0m 49ms/step - loss: 0.0092 - mean_absolute_error: 0.0798 - val_loss: 0.0099 - val_mean_absolute_error: 0.0804\n",
      "Epoch 84/100\n",
      "\u001b[1m2/2\u001b[0m \u001b[32m━━━━━━━━━━━━━━━━━━━━\u001b[0m\u001b[37m\u001b[0m \u001b[1m0s\u001b[0m 44ms/step - loss: 0.0073 - mean_absolute_error: 0.0707 - val_loss: 0.0100 - val_mean_absolute_error: 0.0797\n",
      "Epoch 85/100\n",
      "\u001b[1m2/2\u001b[0m \u001b[32m━━━━━━━━━━━━━━━━━━━━\u001b[0m\u001b[37m\u001b[0m \u001b[1m0s\u001b[0m 51ms/step - loss: 0.0084 - mean_absolute_error: 0.0773 - val_loss: 0.0103 - val_mean_absolute_error: 0.0800\n",
      "Epoch 86/100\n",
      "\u001b[1m2/2\u001b[0m \u001b[32m━━━━━━━━━━━━━━━━━━━━\u001b[0m\u001b[37m\u001b[0m \u001b[1m0s\u001b[0m 48ms/step - loss: 0.0077 - mean_absolute_error: 0.0729 - val_loss: 0.0099 - val_mean_absolute_error: 0.0796\n",
      "Epoch 87/100\n",
      "\u001b[1m2/2\u001b[0m \u001b[32m━━━━━━━━━━━━━━━━━━━━\u001b[0m\u001b[37m\u001b[0m \u001b[1m0s\u001b[0m 50ms/step - loss: 0.0078 - mean_absolute_error: 0.0740 - val_loss: 0.0098 - val_mean_absolute_error: 0.0796\n",
      "Epoch 88/100\n",
      "\u001b[1m2/2\u001b[0m \u001b[32m━━━━━━━━━━━━━━━━━━━━\u001b[0m\u001b[37m\u001b[0m \u001b[1m0s\u001b[0m 50ms/step - loss: 0.0082 - mean_absolute_error: 0.0754 - val_loss: 0.0100 - val_mean_absolute_error: 0.0793\n",
      "Epoch 89/100\n",
      "\u001b[1m2/2\u001b[0m \u001b[32m━━━━━━━━━━━━━━━━━━━━\u001b[0m\u001b[37m\u001b[0m \u001b[1m0s\u001b[0m 49ms/step - loss: 0.0082 - mean_absolute_error: 0.0745 - val_loss: 0.0099 - val_mean_absolute_error: 0.0791\n",
      "Epoch 90/100\n",
      "\u001b[1m2/2\u001b[0m \u001b[32m━━━━━━━━━━━━━━━━━━━━\u001b[0m\u001b[37m\u001b[0m \u001b[1m0s\u001b[0m 49ms/step - loss: 0.0073 - mean_absolute_error: 0.0706 - val_loss: 0.0099 - val_mean_absolute_error: 0.0789\n",
      "Epoch 91/100\n",
      "\u001b[1m2/2\u001b[0m \u001b[32m━━━━━━━━━━━━━━━━━━━━\u001b[0m\u001b[37m\u001b[0m \u001b[1m0s\u001b[0m 50ms/step - loss: 0.0076 - mean_absolute_error: 0.0722 - val_loss: 0.0098 - val_mean_absolute_error: 0.0787\n",
      "Epoch 92/100\n",
      "\u001b[1m2/2\u001b[0m \u001b[32m━━━━━━━━━━━━━━━━━━━━\u001b[0m\u001b[37m\u001b[0m \u001b[1m0s\u001b[0m 46ms/step - loss: 0.0079 - mean_absolute_error: 0.0737 - val_loss: 0.0096 - val_mean_absolute_error: 0.0787\n",
      "Epoch 93/100\n",
      "\u001b[1m2/2\u001b[0m \u001b[32m━━━━━━━━━━━━━━━━━━━━\u001b[0m\u001b[37m\u001b[0m \u001b[1m0s\u001b[0m 40ms/step - loss: 0.0077 - mean_absolute_error: 0.0730 - val_loss: 0.0096 - val_mean_absolute_error: 0.0782\n",
      "Epoch 94/100\n",
      "\u001b[1m2/2\u001b[0m \u001b[32m━━━━━━━━━━━━━━━━━━━━\u001b[0m\u001b[37m\u001b[0m \u001b[1m0s\u001b[0m 50ms/step - loss: 0.0073 - mean_absolute_error: 0.0707 - val_loss: 0.0099 - val_mean_absolute_error: 0.0782\n",
      "Epoch 95/100\n",
      "\u001b[1m2/2\u001b[0m \u001b[32m━━━━━━━━━━━━━━━━━━━━\u001b[0m\u001b[37m\u001b[0m \u001b[1m0s\u001b[0m 48ms/step - loss: 0.0078 - mean_absolute_error: 0.0719 - val_loss: 0.0097 - val_mean_absolute_error: 0.0778\n",
      "Epoch 96/100\n",
      "\u001b[1m2/2\u001b[0m \u001b[32m━━━━━━━━━━━━━━━━━━━━\u001b[0m\u001b[37m\u001b[0m \u001b[1m0s\u001b[0m 41ms/step - loss: 0.0072 - mean_absolute_error: 0.0691 - val_loss: 0.0094 - val_mean_absolute_error: 0.0777\n",
      "Epoch 97/100\n",
      "\u001b[1m2/2\u001b[0m \u001b[32m━━━━━━━━━━━━━━━━━━━━\u001b[0m\u001b[37m\u001b[0m \u001b[1m0s\u001b[0m 50ms/step - loss: 0.0069 - mean_absolute_error: 0.0693 - val_loss: 0.0095 - val_mean_absolute_error: 0.0773\n",
      "Epoch 98/100\n",
      "\u001b[1m2/2\u001b[0m \u001b[32m━━━━━━━━━━━━━━━━━━━━\u001b[0m\u001b[37m\u001b[0m \u001b[1m0s\u001b[0m 48ms/step - loss: 0.0072 - mean_absolute_error: 0.0697 - val_loss: 0.0098 - val_mean_absolute_error: 0.0773\n",
      "Epoch 99/100\n",
      "\u001b[1m2/2\u001b[0m \u001b[32m━━━━━━━━━━━━━━━━━━━━\u001b[0m\u001b[37m\u001b[0m \u001b[1m0s\u001b[0m 42ms/step - loss: 0.0064 - mean_absolute_error: 0.0660 - val_loss: 0.0093 - val_mean_absolute_error: 0.0768\n",
      "Epoch 100/100\n",
      "\u001b[1m2/2\u001b[0m \u001b[32m━━━━━━━━━━━━━━━━━━━━\u001b[0m\u001b[37m\u001b[0m \u001b[1m0s\u001b[0m 50ms/step - loss: 0.0067 - mean_absolute_error: 0.0674 - val_loss: 0.0092 - val_mean_absolute_error: 0.0771\n"
     ]
    },
    {
     "data": {
      "text/plain": [
       "<keras.src.callbacks.history.History at 0x1fb005154d0>"
      ]
     },
     "execution_count": 131,
     "metadata": {},
     "output_type": "execute_result"
    }
   ],
   "source": [
    "model.fit(X_train,y_train,epochs=100,validation_data=(X_test,y_test))"
   ]
  },
  {
   "cell_type": "code",
   "execution_count": 142,
   "id": "d4869adf",
   "metadata": {},
   "outputs": [
    {
     "name": "stdout",
     "output_type": "stream",
     "text": [
      "\u001b[1m2/2\u001b[0m \u001b[32m━━━━━━━━━━━━━━━━━━━━\u001b[0m\u001b[37m\u001b[0m \u001b[1m0s\u001b[0m 7ms/step \n",
      "\u001b[1m2/2\u001b[0m \u001b[32m━━━━━━━━━━━━━━━━━━━━\u001b[0m\u001b[37m\u001b[0m \u001b[1m0s\u001b[0m 6ms/step \n"
     ]
    }
   ],
   "source": [
    "## now predicting the model and check performance matrix\n",
    "train_predict=model.predict(X_train)\n",
    "test_predict=model.predict(X_test)\n"
   ]
  },
  {
   "cell_type": "code",
   "execution_count": 143,
   "id": "8c424617",
   "metadata": {},
   "outputs": [],
   "source": [
    "## transform back to original value because we have to find the RMSE value\n",
    "train_predict=scaler.inverse_transform(train_predict)\n",
    "test_predict=scaler.inverse_transform(test_predict)"
   ]
  },
  {
   "cell_type": "code",
   "execution_count": 144,
   "id": "f7afb4ea",
   "metadata": {},
   "outputs": [
    {
     "data": {
      "text/plain": [
       "185.8543731535284"
      ]
     },
     "execution_count": 144,
     "metadata": {},
     "output_type": "execute_result"
    }
   ],
   "source": [
    "import math\n",
    "from sklearn.metrics import mean_squared_error,mean_absolute_error\n",
    "math.sqrt(mean_squared_error(y_train,train_predict))"
   ]
  },
  {
   "cell_type": "code",
   "execution_count": 145,
   "id": "4fe68894",
   "metadata": {},
   "outputs": [
    {
     "data": {
      "text/plain": [
       "176.44481249584962"
      ]
     },
     "execution_count": 145,
     "metadata": {},
     "output_type": "execute_result"
    }
   ],
   "source": [
    "##on test data\n",
    "math.sqrt(mean_squared_error(y_test,test_predict))"
   ]
  },
  {
   "cell_type": "markdown",
   "id": "81b560f3",
   "metadata": {},
   "source": [
    "## here you see the differnce between train RMSE and test RMSE are very less,so it means our LSTM model done a great job\n",
    "\n"
   ]
  },
  {
   "cell_type": "code",
   "execution_count": 146,
   "id": "4919c362",
   "metadata": {},
   "outputs": [
    {
     "data": {
      "image/png": "[encoded data removed]",
      "text/plain": [
       "<Figure size 1400x500 with 1 Axes>"
      ]
     },
     "metadata": {},
     "output_type": "display_data"
    }
   ],
   "source": [
    " ##Plot the results\n",
    "plt.figure(figsize=(14, 5))\n",
    "plt.plot(train_predict, color='red', label='Real AAPL Stock Price')\n",
    "plt.plot(test_predict, color='blue', label='Predicted AAPL Stock Price')\n",
    "plt.title('AAPL Stock Price Prediction')\n",
    "plt.xlabel('Time')\n",
    "plt.ylabel('AAPL Stock Price')\n",
    "plt.legend()\n",
    "plt.show()"
   ]
  },
  {
   "cell_type": "code",
   "execution_count": 147,
   "id": "f47625a0",
   "metadata": {},
   "outputs": [],
   "source": [
    "mse = mean_squared_error(train_predict, test_predict)\n",
    "mae = mean_absolute_error(train_predict, test_predict)"
   ]
  },
  {
   "cell_type": "code",
   "execution_count": 148,
   "id": "d17daca2",
   "metadata": {},
   "outputs": [
    {
     "data": {
      "text/plain": [
       "225.0464"
      ]
     },
     "execution_count": 148,
     "metadata": {},
     "output_type": "execute_result"
    }
   ],
   "source": [
    "mse"
   ]
  },
  {
   "cell_type": "code",
   "execution_count": 149,
   "id": "a5397064",
   "metadata": {},
   "outputs": [
    {
     "data": {
      "text/plain": [
       "12.225359"
      ]
     },
     "execution_count": 149,
     "metadata": {},
     "output_type": "execute_result"
    }
   ],
   "source": [
    "mae"
   ]
  },
  {
   "cell_type": "code",
   "execution_count": null,
   "id": "af319934",
   "metadata": {},
   "outputs": [],
   "source": []
  }
 ],
 "metadata": {
  "kernelspec": {
   "display_name": "Python 3 (ipykernel)",
   "language": "python",
   "name": "python3"
  },
  "language_info": {
   "codemirror_mode": {
    "name": "ipython",
    "version": 3
   },
   "file_extension": ".py",
   "mimetype": "text/x-python",
   "name": "python",
   "nbconvert_exporter": "python",
   "pygments_lexer": "ipython3",
   "version": "3.11.5"
  }
 },
 "nbformat": 4,
 "nbformat_minor": 5
}
